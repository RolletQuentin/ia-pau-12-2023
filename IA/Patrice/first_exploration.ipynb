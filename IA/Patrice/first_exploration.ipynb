{
 "cells": [
  {
   "cell_type": "markdown",
   "metadata": {},
   "source": [
    "# Première exploration des modèles et solutions potentielles"
   ]
  },
  {
   "cell_type": "markdown",
   "metadata": {},
   "source": [
    "# Chargement des données (MAGB)"
   ]
  },
  {
   "cell_type": "markdown",
   "metadata": {},
   "source": [
    "# Calcul score force circulaire (Pat)"
   ]
  },
  {
   "cell_type": "markdown",
   "metadata": {},
   "source": [
    "### Domaine d'application"
   ]
  },
  {
   "cell_type": "code",
   "execution_count": null,
   "metadata": {},
   "outputs": [],
   "source": [
    "\"\"\"Doc\n",
    "@param ID1 : Peut être un projet ou un PC\n",
    "@param ID_Projet : Id d'un projet\n",
    "@param relation : String \"PC\" \"P\" pour dire si ID1 est un Porteur de compétences ou un Projet.\n",
    "@return Note allant de 0 à 3 pts.\n",
    "\"\"\"\n",
    "\n",
    "def fc_domaine_application(ID1, ID_Projet, relation) :\n",
    "    note = 0\n",
    "\n",
    "    if relation == \"PC\" :\n",
    "        print()\n",
    "        \n",
    "    elif relation == \"P\" :\n",
    "        print()\n",
    "\n",
    "    return note"
   ]
  },
  {
   "cell_type": "markdown",
   "metadata": {},
   "source": [
    "### Champ lexical\n"
   ]
  },
  {
   "cell_type": "code",
   "execution_count": null,
   "metadata": {},
   "outputs": [],
   "source": []
  },
  {
   "cell_type": "markdown",
   "metadata": {},
   "source": [
    "### Proximité géographique (Penser à ajouter la librairie dans requirements.txt)"
   ]
  },
  {
   "cell_type": "code",
   "execution_count": 21,
   "metadata": {},
   "outputs": [],
   "source": [
    "\"\"\"Doc\n",
    "@param ZIP_CODE_1 : code postal \n",
    "@param ZIP_CODE_2 : code postal\n",
    "@return Note allant de 0 à 3 pts.\n",
    "\"\"\"\n",
    "from geopy.geocoders import Nominatim\n",
    "from geopy.distance import geodesic\n",
    "\n",
    "\n",
    "def fc_proximite_geographique(ZIP_CODE_1, ZIP_CODE_2) :\n",
    "    note = 0\n",
    "\n",
    "    geolocator = Nominatim(user_agent=\"my_geocoder\")\n",
    "\n",
    "    location1 = geolocator.geocode(ZIP_CODE_1+ \", France\")\n",
    "    location2 = geolocator.geocode(ZIP_CODE_2+ \", France\")\n",
    "\n",
    "    distance = geodesic((location1.latitude, location1.longitude), (location2.latitude, location2.longitude)).km\n",
    "\n",
    "    if distance < 50 :\n",
    "        note = 3\n",
    "    elif distance < 100 :\n",
    "        note = 2\n",
    "    elif distance < 150 :\n",
    "        note = 1\n",
    "    else :\n",
    "        note = 0\n",
    "\n",
    "    return note"
   ]
  },
  {
   "cell_type": "markdown",
   "metadata": {},
   "source": [
    "### Flux de matières mis en œuvre"
   ]
  },
  {
   "cell_type": "code",
   "execution_count": null,
   "metadata": {},
   "outputs": [],
   "source": []
  },
  {
   "cell_type": "markdown",
   "metadata": {},
   "source": [
    "### Flux de compétences mis en œuvre"
   ]
  },
  {
   "cell_type": "code",
   "execution_count": null,
   "metadata": {},
   "outputs": [],
   "source": []
  },
  {
   "cell_type": "markdown",
   "metadata": {},
   "source": [
    "### Flux de matériel mis en œuvre"
   ]
  },
  {
   "cell_type": "code",
   "execution_count": null,
   "metadata": {},
   "outputs": [],
   "source": []
  },
  {
   "cell_type": "markdown",
   "metadata": {},
   "source": [
    "### Besoins"
   ]
  },
  {
   "cell_type": "code",
   "execution_count": null,
   "metadata": {},
   "outputs": [],
   "source": []
  }
 ],
 "metadata": {
  "kernelspec": {
   "display_name": "Deep_Learning",
   "language": "python",
   "name": "python3"
  },
  "language_info": {
   "codemirror_mode": {
    "name": "ipython",
    "version": 3
   },
   "file_extension": ".py",
   "mimetype": "text/x-python",
   "name": "python",
   "nbconvert_exporter": "python",
   "pygments_lexer": "ipython3",
   "version": "3.11.5"
  }
 },
 "nbformat": 4,
 "nbformat_minor": 2
}
