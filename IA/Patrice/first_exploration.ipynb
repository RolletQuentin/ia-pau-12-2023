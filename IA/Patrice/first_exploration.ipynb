{
  "cells": [
    {
      "cell_type": "markdown",
      "source": [
        "# GOOGLE COLAB (monter disque)"
      ],
      "metadata": {
        "id": "qsAl4uKNWu0v"
      }
    },
    {
      "cell_type": "code",
      "source": [
        "from google.colab import drive\n",
        "drive.mount('/content/drive')"
      ],
      "metadata": {
        "colab": {
          "base_uri": "https://localhost:8080/"
        },
        "id": "qiBx7t7XWuRg",
        "outputId": "a1fe59c1-89ab-46a2-8199-9ef104a1f6f6"
      },
      "execution_count": 1,
      "outputs": [
        {
          "output_type": "stream",
          "name": "stdout",
          "text": [
            "Drive already mounted at /content/drive; to attempt to forcibly remount, call drive.mount(\"/content/drive\", force_remount=True).\n"
          ]
        }
      ]
    },
    {
      "cell_type": "code",
      "source": [
        "%cd /content/drive/MyDrive/GitHub/IA_PAU/"
      ],
      "metadata": {
        "colab": {
          "base_uri": "https://localhost:8080/"
        },
        "id": "-kLON07tWzm2",
        "outputId": "b1897bb1-9f08-4c8e-fcb5-77c7915ab7fa"
      },
      "execution_count": 2,
      "outputs": [
        {
          "output_type": "stream",
          "name": "stdout",
          "text": [
            "/content/drive/MyDrive/GitHub/IA_PAU\n"
          ]
        }
      ]
    },
    {
      "cell_type": "markdown",
      "metadata": {
        "id": "qpvDT9zDUya8"
      },
      "source": [
        "# Chargement des données (MAGB)"
      ]
    },
    {
      "cell_type": "code",
      "execution_count": 57,
      "metadata": {
        "id": "KAR7bM5-Uya9"
      },
      "outputs": [],
      "source": [
        "data_la_communaute = {22: {'code_postal': 64500, 'competences_en_circularite': ['Conduite de travaux BTP', 'Compétences fiscales et financières', 'Ingenierie bâtiment', 'Guide composteur'], 'familles_de_competence': ['Bâtiment', 'Juridique/Admin/Finance', 'Ingénierie', 'Environnement/Ecologie'], 'pk_rejoindre_HBN': 'Quand on mélange un citoyen engagé à une prise de conscience écologique et un besoin d\\'agir, on cherche des nouveaux horizons, des projets, des nouvelles histoires à écrire. Cela peut prendre plusieurs formes comme par exemple un engagement politique ou un changement de vie professionnelle. C\\'est en découvrant HBN et la diversité de ses membres que j\\'y ai trouvé ce fameux \"terreau fertile\" dans lequel murissent les idées. J\\'ai de suite aimé le fait que les projets soient éthiques et environnementaux, ça donne une direction claire. Je recherchai une activité qui serait à la fois locale, durable, décarbonée et dans l\\'économie circulaire.', 'quel_role': None, 'materiel': ['Plastifieuse A4 A5 A6 '], 'matieres': None}, 56: {'code_postal': 64200, 'competences_en_circularite': [\"Animation d'ateliers (sensibilisation écologique)\", \"Animation d'événement\", 'Couture', 'Cuisine', 'Culture Coopérative/Collaborative', 'Décoration', 'Dessin', 'Jardinage', 'Production de supports de communication', 'Rédaction de contenu web', 'Réseaux sociaux', 'Sensibilisation aux enjeux environnementaux', 'Suivi clientèle', 'Zéro déchet', 'Maîtrise de Canva'], 'familles_de_competence': ['Environnement/Ecologie', 'Evénementiel', 'Artisanat', 'Loisirs', 'ESS', 'Autres', 'Communication', 'Numérique', 'Education', 'Commercial', 'Graphisme & Design'], 'pk_rejoindre_HBN': 'J\\'ai envie de m\\'entourer de personnes qui partagent des valeurs communes, qui sont convaincues qu\\'il faut agir maintenant, car il n\\'est pas possible de faire autrement. HBN m\\'apparait comme le lieu idéal pour aller au delà du \"parler\" et enfin entrer dans le \"faire\". ', 'quel_role': \"J'aimerai apporter mes compétences mais rencontrer d'autres porteurs de compétences, projets, voir quelles synergies peuvent être créer et quelle place je peux trouver dans cet écosystème collaboratif et ouvert. \", 'materiel': ['Machine à coudre'], 'matieres': ['Tissus', 'Déchets organiques']}, 44: {'code_postal': 40140, 'competences_en_circularite': [\"Animation d'ateliers (sensibilisation écologique)\", 'Charte graphique', 'Maîtrise de Canva', 'Design thinking', \"Création d'entreprise\", 'Eco-conception', 'Graphisme', 'Création de contenus pédagogiques', 'Gestion de projet', 'Illustrations', 'Cuisine', 'Idéation', 'Maquettisme', 'Identité visuelle', 'Jardinage', 'Permaculture', 'Production de supports de communication', 'Web design', 'Univers de marque', 'Regard artistique', 'Biomimétisme'], 'familles_de_competence': ['Environnement/Ecologie', 'Evénementiel', 'Graphisme & Design', 'Coaching', 'Entrepreneuriat', 'Juridique/Admin/Finance', 'Education', 'Loisirs', 'Ingénierie', 'Communication', 'Agronomie', 'Numérique', 'Commercial'], 'pk_rejoindre_HBN': \"La collaboration et la co-évolution est au coeur des principes même du vivant!  Nouvellement arrivée dans la région, je serais ravie de rencontrer et d'apporter mon aide si c'est possible à des projets porteur de valeur et de sens. \", 'quel_role': \"Je serais ravie d'apporter mon aide, mes compétences, un regard .. \", 'materiel': None, 'matieres': None}, 35: {'code_postal': 64100, 'competences_en_circularite': ['Developpement commercial', 'Compétences fiscales et financières', 'Recherche de financement', 'Stratégie d’ouverture sur les possibles', 'Ressources humaines (RH)'], 'familles_de_competence': ['Commercial', 'Juridique/Admin/Finance', 'Entrepreneuriat'], 'pk_rejoindre_HBN': 'Les valeurs et orientations de HBN raisonnent avec qui je suis et dans quelle dynamique je souhaite m’épanouir : Collectif qui se « met en sens » pour le bien commun » !\\n', 'quel_role': 'Je mets à disposition mes compétences en entreprenariat (Stratégie, Financement, RH, Compta/Gestion), Développement commercial, Culture Coopérative/Collaborative et ma bonne humeur!', 'materiel': None, 'matieres': None}, 77: {'code_postal': 64990, 'competences_en_circularite': ['Coaching (prise de parole', ' pitch projet', ' exercice de théatre)', 'Gestion des déchets', ' formation au compostage', ' conférences compostage', 'Design thinking', 'Gestion de projet', \"Recherche d'aides et de subventions\"], 'familles_de_competence': ['Coaching', 'Environnement/Ecologie', 'Entrepreneuriat', 'Juridique/Admin/Finance'], 'pk_rejoindre_HBN': \"Le souhait de contribuer à l'accélération de la transition écologique sur notre territoire, de manière simple et efficace.\\nLa volonté de contribuer à amplifier les impacts positifs sur la société.\\n\", 'quel_role': 'Je propose un accompagnement QSE/RSE ainsi que des accompagnements de groupes de porteurs de projets ou individuellement pour prendre du recul et trouver des solutions pour continuer à avancer.\\n', 'materiel': None, 'matieres': None}, 86: {'code_postal': 64100, 'competences_en_circularite': [\"Animation d'événement\", \"Animation d'ateliers (sensibilisation écologique)\", 'Analyse de base de données Excel', 'Gestion des déchets', ' formation au compostage', ' conférences compostage', 'Monter une recyclerie', 'Monter une boutique de Troc', 'Zéro déchet'], 'familles_de_competence': ['Evénementiel', 'Environnement/Ecologie', 'Ingénierie', 'Numérique', 'ESS'], 'pk_rejoindre_HBN': 'Participer à une intelligence collective, aider à la réalisation de projets en lien avec la transition écologique sur le territoire', 'quel_role': \"en tant que porteur de compétence, je peux aider sur le montage de projet, mais également dans l'animation de stand, en milieu scolaire, entreprise.\", 'materiel': None, 'matieres': None}, 46: {'code_postal': 64700, 'competences_en_circularite': [\"Animation d'ateliers (sensibilisation écologique)\", 'Analyse de base de données Excel', 'Bases de données', 'Business plan', 'Coaching (prise de parole', ' pitch projet', ' exercice de théatre)', 'Compétences formelles d’organisation', 'Compétences fiscales et financières', \"Création d'entreprise\", \"Design d'expérience - UX\", 'Design thinking', 'Création de contenus pédagogiques', 'Developpement commercial', 'Etude de marché', 'Mentorat', 'Profilage clients - personnas', 'Ressources humaines (RH)', 'Stratégie d’ouverture sur les possibles', 'Gestion administrative', \"Raison d'être projet\", 'Recherche de financement', 'Organisations liberées', 'Culture Coopérative/Collaborative'], 'familles_de_competence': ['Environnement/Ecologie', 'Evénementiel', 'Ingénierie', 'Numérique', 'Entrepreneuriat', 'Coaching', 'Juridique/Admin/Finance', 'Graphisme & Design', 'Education', 'Commercial', 'Marketing', 'ESS'], 'pk_rejoindre_HBN': \"Je dispose de compétences et connaissance que je souhaite partager et offrir pour l'éclosion de projets qui auront un impact positif. Ces projets sont souvent difficile à viabiliser, financer et diriger... 3 sujets que je maitrise et qui me passionnent\", 'quel_role': \"J'envisage du bénévolat de compétence et de formation, via des revues de business plan, de projets ou de pitch, de l'accompagnement sur des sujets techniques et de l'aide à l'entrepreneuriat\", 'materiel': None, 'matieres': None}, 20: {'code_postal': 64600, 'competences_en_circularite': ['Production de supports de communication', 'Techniques commerciales'], 'familles_de_competence': ['Communication', 'Commercial'], 'pk_rejoindre_HBN': 'Pour le lien vers un réseau professionnel aux valeurs communes et partage de compétences.', 'quel_role': None, 'materiel': ['Remorque', 'Caravane'], 'matieres': None}, 47: {'code_postal': 64210, 'competences_en_circularite': ['Gestion de projet', 'Ingénierie mécanique', 'Bases de données', 'Aide aux chantiers participatifs', 'Biodiversité', 'Conception 3D', 'Compétences formelles d’organisation', 'Dessin technique', 'Eco-conception', 'Rédaction de cahier des charges', 'Spécifications techniques', 'Suivi prototypage', 'Vision', 'Robotique'], 'familles_de_competence': ['Entrepreneuriat', 'Ingénierie', 'Numérique', 'Bâtiment', 'Environnement/Ecologie'], 'pk_rejoindre_HBN': 'Je souhaite rejoindre un collectif qui partage les valeurs que moi et faire de nouvelles rencontres dans ce cadre. Voyage, découverte, développement durable, collectivité... sont pour moi des notions que je souhaite partager avec des personnes sensées. ', 'quel_role': \"Mon rôle pourrait être d'accompagner des personnes qui cherchent à développer leur projet dans différents domaines. Porteur de compétences, je souhaite également apporter mon aide à ceux qui en auront besoin.\", 'materiel': None, 'matieres': None}, 71: {'code_postal': 64600, 'competences_en_circularite': ['Maîtrise de Canva', 'Communication non violente', 'Design thinking', 'Gestion de projet', 'Photographie', 'Rédaction de contenu web', 'Web design'], 'familles_de_competence': ['Graphisme & Design', 'Communication', 'Coaching', 'Entrepreneuriat', 'Audiovisuel', 'Numérique'], 'pk_rejoindre_HBN': \"Pour faire partie d'une communauté active sur des projets locaux\\nPour oeuvrer à mon échelle à l'amélioration des écosystèmes humain et non humains\\nParce que j'ai senti un vrai accueil et une ambition respectueuse dans l'être et le faire\", 'quel_role': \"Apporter les compétences que j'ai, en soutien aux projets \\nAppuyer la vision du collectif en communiquant les actions autour de moi\\nBrainstormer en équipe pour de nouvelles idées, nouveaux projets\", 'materiel': ['Appareil photo'], 'matieres': None}, 75: {'code_postal': 31000, 'competences_en_circularite': ['Marketing', 'Strategie webmarketing', 'Prospection', 'Developpement commercial', 'Gestion de projet', 'Mentor entrepreneurial', 'Pitch commercial', 'Recherche de partenariat', 'Réseaux sociaux', 'Suivi clientèle'], 'familles_de_competence': ['Commercial', 'Communication', 'Numérique', 'Entrepreneuriat'], 'pk_rejoindre_HBN': \"Human By Nature est un projet qui me parle : son écosystème circulaire met en relation des humains qui ont des valeurs communes et autour de projets éthiques et environnementaux. J'ai envie de partager mes compétences, d'échanger avec des penseurs faiseurs et de participer au développement d'initiatives positives. De plus, je projette de m'installer au pays basque d'ici à une petite année, je souhaite donc commencer à m'investir dans des projets locaux.\", 'quel_role': \"Dans un premier temps, je souhaiterais rejoindre HBN en tant que porteur bénévole de compétences pour aider les porteurs de projets à développer leurs stratégies digitale et commerciale. Je souhaite également t'aider dans le développement de ton association pour faire d'HBN une référence de l'entreprenariat à impact positif dans notre société.\", 'materiel': None, 'matieres': None}, 33: {'code_postal': 64100, 'competences_en_circularite': ['Vidéo (Tournage', ' montage) - Photo'], 'familles_de_competence': ['Audiovisuel'], 'pk_rejoindre_HBN': \"Je suis arrivé il y a pas longtemps dans le pays basque et c'est une communauté très intéressante intégrer. Pour pouvoir améliorer l'environnement locale et rencontrer des gens engagés\", 'quel_role': \"Je suis porteur de compétence dans la vidéo et l'audiovisuel\", 'materiel': None, 'matieres': None}, 1: {'code_postal': 64200, 'competences_en_circularite': ['Enseignement', 'Regard artistique', 'Traduction français / anglais', \"Atelier cohésion d'équipe\"], 'familles_de_competence': ['Education', 'Loisirs', 'Coaching'], 'pk_rejoindre_HBN': \"Notre passage à la SERRE a conforté l'idée que le secteur culturel et le cirque en particulier doit se résoudre à participer à la transition socioécologique par le choix d'un lieu de pratique limitant son impact sur l'environnement et par la sensibilisation des pratiquants et des artistes à l'environnement. HBN détient le conseil et les compétences pour consolider cet aspect du projet grâce à ses valeurs, son réseau et au dynamisme de l'entraide.\", 'quel_role': None, 'materiel': ['Dremel', 'Enceintes'], 'matieres': None}, 30: {'code_postal': 64100, 'competences_en_circularite': ['Aide aux chantiers participatifs', 'Appels à projets', 'Business plan', \"Animation d'ateliers (sensibilisation écologique)\", 'Developpement commercial', 'Etude de marché', 'Gestion de projet', 'Marketing', 'Mentor entrepreneurial', \"Mesure d'impact social et environnemental\", 'Profilage clients - personnas', 'Recherche de financement', 'Recherche de partenariat'], 'familles_de_competence': ['Bâtiment', 'Entrepreneuriat', 'Environnement/Ecologie', 'Evénementiel', 'Commercial', 'Ingénierie', 'Marketing', 'Juridique/Admin/Finance'], 'pk_rejoindre_HBN': \"J'ai envie de rejoindre HBN pour partager mes compétences avec des projets locaux, qui participent à faire du Pays Basque un territoire plus résilient et, avec des projets à impact positif sur la société et l'environnement. J'espère ainsi pouvoir contribuer à leur développement. Plus simplement, je serai ravie de rencontrer des personnes avec lesquelles je partage un certain nombre de valeurs pour partager des moments conviviaux !\", 'quel_role': 'Je rejoins HBN en tant que porteuse de compétences. Je peux vous aider à structurer votre offre, analyser les besoins de vos cibles/bénéficiaires, réfléchir à votre modèle économique, construire des partenariats, rechercher des financements, mesurer votre impact social ou planter des arbres, faire des cartons, etc !', 'materiel': ['Machine à coudre'], 'matieres': None}, 69: {'code_postal': 31400, 'competences_en_circularite': ['Appels à projets', 'Business plan', 'Maîtrise de Canva', 'Charte graphique', 'Compétences formelles d’organisation', \"Design d'expérience - UX\", 'Design thinking', 'Developpement commercial', 'Production de supports de communication', 'Stratégie acquisition client', 'Univers de marque', 'Statuts juridiques', 'Vision', 'SWOT', 'Réseaux sociaux', 'Rédaction de contenu web', 'Recherche de partenariat', \"Recherche d'aides et de subventions\", 'Recherche de financement', \"Raison d'être projet\", 'Pitch', 'Etude de marché', 'Expertise LinkedIn', 'Marketing'], 'familles_de_competence': ['Entrepreneuriat', 'Graphisme & Design', 'Coaching', 'Commercial', 'Communication', 'ESS', 'Numérique', 'Juridique/Admin/Finance'], 'pk_rejoindre_HBN': 'Je souhaite rejoindre HBN pour apporter mes connaissances et compétences (entrepreunariat et communication) aux porteurs de projet afin de les aider et de contribuer à mon échelle aux développement de leurs belles ambitions au service des enjeux environnementaux. ', 'quel_role': \"Mon rôle est d'accompagner les porteurs de projet à solutionner les problématiques rencontrées en phase d'idéation et de développement du projet (adéquation porteur/projet, étude de marché, branding..) et pour tout besoin en communication de la création d'une marque à la stratégie de communication. \", 'materiel': None, 'matieres': None}, 16: {'code_postal': 64122, 'competences_en_circularite': ['Ingénierie mécanique', 'Suivi production'], 'familles_de_competence': ['Ingénierie'], 'pk_rejoindre_HBN': 'Proche de la nature, j’adore faire pousser des légumes et manger des plats savoureux.\\nJ’aime les défis et j’aime aller au bout de mes idées en passant à l’action.\\nTransition écologique, économie circulaire sont nos enjeux qui m’animent.\\n', 'quel_role': None, 'materiel': ['Machine à coudre', 'Machine à souder', 'Scie circulaire', 'Scie à ruban', 'Raboteuse', 'Scie sauteuse', 'Ponceuse', 'Serre', 'Tondeuse', 'Bineuse'], 'matieres': None}, 52: {'code_postal': 64200, 'competences_en_circularite': ['Developpement scientifique de materiaux', 'Enseignement', 'Fresque du climat', 'Gestion de projet', 'Propriété industrielle', 'Recherche de fournisseurs', 'Rédaction de cahier des charges', 'Spécifications techniques'], 'familles_de_competence': ['Ingénierie', 'Education', 'Environnement/Ecologie', 'Entrepreneuriat', 'Juridique/Admin/Finance', 'Commercial'], 'pk_rejoindre_HBN': 'Je cherche, à contribuer à des projets ayant un impact réel et positif sur l\\'environnement.\\nJe souhaite \"travailler\" dans un environnement de partage, d\\'échanges, de bienveillance\\nJe veux me sentir utile...', 'quel_role': \"J'espère apporter mon aide aux porteurs de projets à travers mes compétences scientifiques (veille, analyse, prospection) et de chef de projet (rédaction de cahier des charges, établissement de spécifications, suivi de projet) dans un premier temps.\", 'materiel': ['Voiture'], 'matieres': None}, 42: {'code_postal': 64500, 'competences_en_circularite': ['Developpement commercial', 'Recherche de financement', 'Réseau varié sur l’entrepreneuriat local et national', 'Expérience pro dans le développement des territoires par le développement de ses entreprises'], 'familles_de_competence': ['Commercial', 'Entrepreneuriat', 'Juridique/Admin/Finance'], 'pk_rejoindre_HBN': '2 sujets me tiennent à coeur = la protection de l’environnement et le développement des territoires . Ils se sont croisés à plusieurs reprises dans ma vie pro et perso \\nJe me sens en phase avec la vision HBN et cela semble être au croisement de ce que je suis capable d’apporter et les sujets sur lesquels je souhaite m’engager.\\n', 'quel_role': \"Tout ce qui est lié à l'Entrepreneuriat \\nStratégie / développement commercial \\nRecherche de financements\\nDigital \\nRéseau varié sur l’entrepreneuriat local et national\\nExpérience pro dans le développement des territoires par le développement de ses entreprises\\n\", 'materiel': None, 'matieres': None}, 34: {'code_postal': 64100, 'competences_en_circularite': ['Aide aux chantiers participatifs', \"Animation d'ateliers (sensibilisation écologique)\", 'Business plan', \"Création d'entreprise\", 'Enseignement', 'Sensibilisation aux enjeux environnementaux', 'Strategie webmarketing', 'Réseaux sociaux', 'Gestion de projet', 'Agroécologie', 'Fresque du climat', 'Permaculture'], 'familles_de_competence': ['Bâtiment', 'Environnement/Ecologie', 'Evénementiel', 'Entrepreneuriat', 'Juridique/Admin/Finance', 'Education', 'Communication', 'Numérique', 'Agronomie'], 'pk_rejoindre_HBN': 'Pour faire basculer rapidement et massivement les acteurs du Pays Basque dans la transition écologique.', 'quel_role': \"Fédérer des personnes, accompagner des porteurs de projets à développer leur idée, mettre en place des outils et/ou événements permettant d'accélérer la transition.\", 'materiel': ['Voiture'], 'matieres': None}, 83: {'code_postal': 64230, 'competences_en_circularite': ['Agroécologie', 'Appels à projets', \"Création d'entreprise\", 'Création de contenus pédagogiques', 'Enseignement', 'Jardinage', 'Maraîchage bio', 'Philosophie'], 'familles_de_competence': ['Agronomie', 'Entrepreneuriat', 'Juridique/Admin/Finance', 'Education', 'Loisirs'], 'pk_rejoindre_HBN': \"Pour féliciter tout le travail de l'asso, pour rencontrer des gens sympas avec une vrai conscience, pour aider avec mon parcours et mes conaisssances auto-didactes d'entrepreneur / data scientist \", 'quel_role': 'Faire pencher un peu HBN du côté du béarn, apporter de la bonne humeur, des fruite et des légumes', 'materiel': ['Retroprojecteur'], 'matieres': ['Fruits - Légumes']}, 82: {'code_postal': 64200, 'competences_en_circularite': ['Analyse de base de données Excel', 'Fresque du climat', 'Transition écologique'], 'familles_de_competence': ['Ingénierie', 'Numérique', 'Education', 'Environnement/Ecologie'], 'pk_rejoindre_HBN': \"J'ai suivi le programme La Graine qui m'a beaucoup plu. Etant un peu scolaire, le cadre proposé par la Serre me permet de passer plus facilement à l'action et de découvrir au passage de belles personnes et des outils intéressants\", 'quel_role': None, 'materiel': None, 'matieres': ['Fruits - Légumes', 'Déchets organiques', 'Compost']}, 18: {'code_postal': 64100, 'competences_en_circularite': ['Animation tv/radio', \"Création d'entreprise\", 'Marketing', 'Rédaction de contenu web', 'mobilité douce'], 'familles_de_competence': ['Audiovisuel', 'Entrepreneuriat', 'Juridique/Admin/Finance', 'Commercial', 'Numérique'], 'pk_rejoindre_HBN': \"Pour partager des idées, aider, être aidé avec des gens qui partagent mes valeurs. Je crois à l'intelligence collective.\", 'quel_role': None, 'materiel': None, 'matieres': None}, 85: {'code_postal': 75012, 'competences_en_circularite': ['Création de contenus pédagogiques', 'Bases de données', 'Analyse de base de données Excel', \"Maitrise d'Airtable\", \"Animation d'ateliers (sensibilisation écologique)\", 'Sensibilisation aux enjeux environnementaux', 'Fresque du climat', \"Design d'expérience - UX\", 'Eco-conception', 'Animation tv/radio', 'Traduction français / anglais'], 'familles_de_competence': ['Education', 'Numérique', 'Ingénierie', 'Environnement/Ecologie', 'Evénementiel', 'Graphisme & Design', 'Audiovisuel'], 'pk_rejoindre_HBN': \"Pour aider sur l'organisation, la coordination de l'association, me plonger dans son engagement passionnant et pourquoi pas me former pour lancer des projets sur d'autres territoires.\", 'quel_role': \"Aider à la mise en oeuvre d'outils efficaces afin de passer moins de temps dans des tâches de saisie, d'administration ou d'organisation et ainsi libérer du temps pour des interactions humaines directes.\", 'materiel': None, 'matieres': None}, 70: {'code_postal': 64210, 'competences_en_circularite': ['Aide aux chantiers participatifs', \"Animation d'événement\", 'Appels à projets', \"Atelier cohésion d'équipe\", 'Bricolage', 'Business plan', 'Maîtrise de Canva', 'Coaching (prise de parole', ' pitch projet', ' exercice de théatre)', \"Création d'entreprise\", 'Culture Coopérative/Collaborative', 'Développement personnel', 'Etude de marché', 'Gestion de projet', 'Gestion administrative', 'Management', 'Management des systèmes qualités', 'Permaculture', 'Production de supports de communication', 'Zéro déchet', 'Traduction français / anglais', 'Recherche de financement', 'Recherche de fournisseurs', \"Recherche d'aides et de subventions\", 'Recherche de partenariat', 'Ressources humaines (RH)'], 'familles_de_competence': ['Bâtiment', 'Evénementiel', 'Entrepreneuriat', 'Coaching', 'Artisanat', 'Graphisme & Design', 'Juridique/Admin/Finance', 'ESS', 'Commercial', 'Agronomie', 'Communication', 'Environnement/Ecologie', 'Education'], 'pk_rejoindre_HBN': \"HBN est un collectif qui m'appelle pour ses valeurs s'alignant avec les miennes, ses modes d'actions concrets et ambitieux.\\nHBN est un catalyseur qui va permettre d'utiliser ma capacité d'action à bon escient. J'y entrevois bienveillance et stimulation pour être bien et aller plus loin.\", 'quel_role': \"Je souhaite apporter soutien, aide, transfert de compétences, formation aux porteurs de projet en accompagnement individuel. J'aimerais également animer la force du collectif en facilitant les mises en relation et animant la communauté.\", 'materiel': None, 'matieres': ['Fruits - Légumes']}, 87: {'code_postal': 64200, 'competences_en_circularite': ['Analyse de base de données Excel', 'Bases de données', 'Bricolage', 'Compétences fiscales et financières', 'Conduite du changement', 'Gestion de projet', 'Rédaction de cahier des charges', 'Traduction français / anglais', 'Spécifications techniques'], 'familles_de_competence': ['Ingénierie', 'Numérique', 'Artisanat', 'Juridique/Admin/Finance', 'Entrepreneuriat', 'Education'], 'pk_rejoindre_HBN': \"Depuis quelques temps, je prends du recul et cherche davantage de sens à ce que je fais, et ce que je peux apporter à notre société qui a cruellement besoin de se transformer. J'ai envie de participer à cette transformation, pour le bien de tous mais aussi pour moi-même.\", 'quel_role': None, 'materiel': ['Ordinateur', 'Voiture'], 'matieres': None}, 2: {'code_postal': 64520, 'competences_en_circularite': [\"Animation d'ateliers (sensibilisation écologique)\", 'Permaculture', 'Agroécologie'], 'familles_de_competence': ['Environnement/Ecologie', 'Evénementiel', 'Agronomie'], 'pk_rejoindre_HBN': \"J'aime les valeurs portées par le réseau HBN, le fait ne pas dissocier l'homme de la nature et de créer du lien pour avancer ensemble dans le bon sens.\\n\\nJe pense que pour porter des projets innovants,responsables et éthiques, il est primordial de ne pas agir seul. C'est pourquoi faire parti du collectif HBN prend tout son sens.\", 'quel_role': None, 'materiel': None, 'matieres': None}, 79: {'code_postal': 64700, 'competences_en_circularite': ['Gestion de projet', 'Traduction français / espagnol', 'Transition écologique', 'Bilan carbone', 'Maîtrise de Canva'], 'familles_de_competence': ['Entrepreneuriat', 'Education', 'Environnement/Ecologie', 'Graphisme & Design'], 'pk_rejoindre_HBN': \"Je souhaite contribuer à un projet porteur de sens tel que HBN afin d'accompagner un maximum d'acteurs vers la transition écologique pour un monde durable et souhaitable.\", 'quel_role': None, 'materiel': ['Appareil photo', 'Ordinateur'], 'matieres': None}, 17: {'code_postal': 40510, 'competences_en_circularite': ['Animation tv/radio', 'Coaching (prise de parole', ' pitch projet', ' exercice de théatre)', \"Création d'entreprise\", 'Expertise LinkedIn', 'Réseaux sociaux'], 'familles_de_competence': ['Audiovisuel', 'Coaching', 'Entrepreneuriat', 'Juridique/Admin/Finance', 'Communication', 'Numérique'], 'pk_rejoindre_HBN': \"Pour travailler en équipe sur un projet autour des mobilités durables, auquel je crois beaucoup. Je crois à l'intelligence collective\", 'quel_role': None, 'materiel': ['Ordinateur'], 'matieres': None}, 50: {'code_postal': 64100, 'competences_en_circularite': ['Gestion de projet', 'Recherche de financement', 'Coopération transfrontalière'], 'familles_de_competence': ['Entrepreneuriat', 'Juridique/Admin/Finance'], 'pk_rejoindre_HBN': \"J'ai découvert l'association grâce à une amie bénévole de compétence et j'ai participé au dernier grand rendez-vous HBN. J'y ai rencontré des gens fantastiques et j'ai notamment pu apporté mon aide à deux porteurs de projets. Ravie de cette expérience, je souhaite continuer à apporter mon aide à des projets plein d'avenir.\", 'quel_role': 'Je souhaite apporter mon temps et mon énergie en tant que porteuse de compétence, et partager ainsi  mes connaissances en matière de gestion de projet, de recherche de financements, et de coopération transfrontalière au service des porteurs de projets.  ', 'materiel': None, 'matieres': None}, 40: {'code_postal': 40220, 'competences_en_circularite': ['Developpement commercial', 'Etude de marché', 'Expertise LinkedIn', 'Gestion de projet', 'Marketing', 'Optimisation du référencement (SEO)', 'Vidéo (Tournage', ' montage) - Photo', 'Production de supports de communication', 'Profilage clients - personnas', \"Raison d'être projet\", 'Rédaction de contenu web', 'Strategie webmarketing', 'Traduction français / anglais', 'Univers de marque'], 'familles_de_competence': ['Commercial', 'Entrepreneuriat', 'Communication', 'Audiovisuel', 'Marketing', 'Numérique', 'Education'], 'pk_rejoindre_HBN': \"Pour rencontrer des gens qui souhaitent lutter contre le réchauffement climatique. Pour aider des projets vertueux. Pour faire partie d'une communauté où l'entraide et le partage sont moteurs.\", 'quel_role': 'Apporter des compétences en Marketing essentiellement. Mais aussi stratégie digitale, SEO, Business développement, Communication, Merchandising.', 'materiel': None, 'matieres': None}, 66: {'code_postal': 35500, 'competences_en_circularite': [\"Animation d'ateliers (sensibilisation écologique)\", 'Design thinking', 'Préparation aux rendez-vous', 'Stratégie d’ouverture sur les possibles', 'SWOT', \"Design d'expérience - UX\", 'Profilage clients - personnas', 'Ethnologie', 'Idéation', \"Test d'usage\", 'Vision'], 'familles_de_competence': ['Environnement/Ecologie', 'Evénementiel', 'Coaching', 'Entrepreneuriat', 'Graphisme & Design', 'Marketing', 'Sciences sociales', 'Ingénierie'], 'pk_rejoindre_HBN': \"Je souhaite à nouveau m'investir en tant que bénévole pour mettre à profit mes compétences, ce que j'aime faire au quotidien et notamment mon attrait pour le design d'expérience afin d'aider les jeunes pousses et les entreprises à développer de nouveaux produits/services à travers la démarche du design. C'est aussi pour rencontrer de nouvelles personnes et mieux connaître les acteurs de la région Nouvelle-Aquitaine. \", 'quel_role': \"Soutenir les projets en devenir, Ouvrir le champs des possibles avec la démarche design, Challenger les équipes projets, Guider les équipes dans leurs recherches et positionnement, Permettre aux équipes d'aller à la rencontre des acteurs de leur projet pour questionner, observer, tester leurs idées\", 'materiel': None, 'matieres': None}, 28: {'code_postal': 64600, 'competences_en_circularite': ['Bricolage', 'Décoration', 'Eco-construction', 'Fresque du climat', 'Ingenierie textile', 'Jardinage', 'Permaculture', 'Biologie médicale'], 'familles_de_competence': ['Artisanat', 'Autres', 'Bâtiment', 'Education', 'Environnement/Ecologie', 'Ingénierie', 'Loisirs', 'Agronomie'], 'pk_rejoindre_HBN': \"Être aidé pour la réalisation de notre projet avec Andréa  Liéger : \\n- remise en route de notre moulin à eau \\n- créer un emploi de meunier boulanger \\n- créer de l'hydroélectricité pour le village et pousser idéalement vers une station productrice d’hydrogène vert...\", 'quel_role': None, 'materiel': None, 'matieres': None}, 73: {'code_postal': 64990, 'competences_en_circularite': [\"Animation d'événement\", 'Bilan carbone', 'Enseignement', 'Jardinage'], 'familles_de_competence': ['Evénementiel', 'Environnement/Ecologie', 'Education', 'Loisirs'], 'pk_rejoindre_HBN': \"HBN propose un écosystème de compétences et de personnes à même de mettre en œuvre une panoplie de projets tournés vers l'atténuation des impacts écologiques, l'adaptation et la résilience du territoire. J'ai été enthousiasmé.\", 'quel_role': 'Dans un premier temps observateur puis acteur si mes compétences peuvent être mises à profit. ', 'materiel': ['Enceintes', 'Petit outillage', 'Scie circulaire', 'Outils de jardinage', 'Remorque'], 'matieres': None}, 25: {'code_postal': 64100, 'competences_en_circularite': ['Agroécologie', 'Permaculture'], 'familles_de_competence': ['Agronomie'], 'pk_rejoindre_HBN': \"J'aime les valeurs portées par le réseau HBN.\\nLe fonctionnement collaboratif me motive et sera surement source de belles interactions humaines ou pro, et peut-être faire naître un nouveau projet partagé avec des membre du collectif.\\nPrendre part à HBN me parait une bonne chose aussi pour avoir plus d'impact ensemble pour changer le monde : )\", 'quel_role': None, 'materiel': None, 'matieres': None}, 74: {'code_postal': 40390, 'competences_en_circularite': [\"Animation d'événement\", 'Design thinking', 'Developpement commercial', 'Management', 'Porteur de sens entrepreneurial', \"Raison d'être projet\", 'Recrutement', 'SWOT', 'Vision', 'Business plan', 'Idéation', 'Profilage clients - personnas', 'Réseaux sociaux'], 'familles_de_competence': ['Evénementiel', 'Coaching', 'Commercial', 'Entrepreneuriat', 'Ressources humaines', 'Ingénierie', 'Marketing', 'Communication', 'Numérique'], 'pk_rejoindre_HBN': 'Je veux développer ma connaissance du développement durable et de ses acteurs. Par cet enrichissement, je veux améliorer mon activité de conseil pour mieux accompagner les entreprises dans un modèle de croissance vertueux qui favorise les interactions/synergies entre elles et les acteurs locaux du développement durable et de l’E.S.S.', 'quel_role': 'Je souhaite partager le pragmatisme de mon expérience de terrain de dirigeant. \\nJe souhaite alimenter le collectif avec les qualités qui me sont reconnues : curieux et ouvert, bienveillant, optimiste, persévérant, résilient et sensible et qui font de moi un bon communicant.\\n', 'materiel': ['Ordinateur'], 'matieres': ['Compost']}, 45: {'code_postal': 64600, 'competences_en_circularite': ['Gestion administrative', 'HACPP', 'Management', 'Marketing', 'Prospection', 'Recherche de fournisseurs', 'Recherche de partenariat'], 'familles_de_competence': ['Entrepreneuriat', 'Juridique/Admin/Finance', 'Commercial'], 'pk_rejoindre_HBN': \"HBN répond à plus d'un titre à mes valeurs et ce collectif qui grandit et se nourrit des différents profils de ses adhérents, m'inspire fortement !\", 'quel_role': \"J'aimerai contribuer à l'émergence de nouveaux concepts et de nouvelles pratiques pour répondre aux besoins sociétaux et environnementaux de notre territoire.\", 'materiel': ['Machine à coudre', 'Petit outillage', 'Retroprojecteur', 'Scie sauteuse'], 'matieres': ['Déchets organiques']}, 31: {'code_postal': 40170, 'competences_en_circularite': [\"Atelier cohésion d'équipe\", 'Gestion de projet', 'Marketing', 'Mentorat', \"Raison d'être projet\", 'Coach'], 'familles_de_competence': ['Coaching', 'Entrepreneuriat', 'Commercial'], 'pk_rejoindre_HBN': \"Pour agir en simplicité, un pas après l'autre, et contribuer au changement. J'ai envie de rejoindre un collectif agile, créatif, de personnes qui construisent en regardant dans la même direction. Et si c'est beau et joyeux, c'est encore mieux !\", 'quel_role': \"Je rejoins HBN en tant que porteuse de compétences, pour du soutien individuel en coaching, de l'accompagnement de projets dans ses aspects marketing et modèle économique, de la facilitation d'ateliers ou de groupes de co-développement.\", 'materiel': None, 'matieres': None}, 49: {'code_postal': 64100, 'competences_en_circularite': ['Bricolage', 'Couture', 'Cuisine', 'Pitch commercial', 'Techniques commerciales', 'Protection des indépendants'], 'familles_de_competence': ['Artisanat', 'Loisirs', 'Commercial'], 'pk_rejoindre_HBN': 'Pour agir de manière concrète localement dans la préservation de la nature.', 'quel_role': 'Apporter mon aide en partageant mon temps ou mes compétences à ceux qui ont des projets.', 'materiel': ['Machine à coudre', 'Petit outillage'], 'matieres': ['Compost', 'Tissus']}, 9: {'code_postal': 64700, 'competences_en_circularite': ['Pédagogie scolaire et adaptée', \"Animation d'événement\"], 'familles_de_competence': ['Education', 'Evénementiel'], 'pk_rejoindre_HBN': \"Pour que notre projet se retrouve en synergie avec d'autres projets et que nous puissions partager nos compétences . (faire partie d'un réseau)\", 'quel_role': None, 'materiel': None, 'matieres': None}, 36: {'code_postal': 64600, 'competences_en_circularite': ['Compétences fiscales et financières', 'Recherche de financement'], 'familles_de_competence': ['Juridique/Admin/Finance', 'Entrepreneuriat'], 'pk_rejoindre_HBN': 'Je pense que ce projet est un excellent moyen de centraliser les idées, les compétences et les énergies de chacun. En mutualisant nos efforts, on peut arriver à faire bouger les choses à notre niveau. Avec des valeurs communes et un esprit de partage et de bienveillance, chaque action aura des conséquences positives !', 'quel_role': \"A titre professionnel, j'ai créé et je dirige ma société de conseil en gestion de patrimoine où je fais du conseil en placements financiers à vocation écologique. Je ne retrouvais pas une entreprise qui répondait à mes valeurs et mon envie de conseiller des investissements écologiques, je l'ai donc créé !\\nJ'ai aussi des compétences en fiscalité, finance, juridique (sans avoir les qualifications d'un avocat) mais je peux donner des orientations sur la forme de société. Si des porteurs de projet ont besoin de couverture sociale ou prévoyance, j'ai aussi cette compétence là.\\n\", 'materiel': None, 'matieres': None}, 54: {'code_postal': 64210, 'competences_en_circularite': ['Business plan', 'Compétences fiscales et financières', \"Création d'entreprise\", 'Etude de marché', 'Traduction français / espagnol', 'Statuts juridiques'], 'familles_de_competence': ['Entrepreneuriat', 'Juridique/Admin/Finance', 'Commercial', 'Education', 'ESS'], 'pk_rejoindre_HBN': 'L\\'enjeu environnemental est crucial et est un point névralgique quant à notre futur et celui des prochaines générations. Il en va de la responsabilité de chacun de faire \"sa part de colibri\". Le projet HBN me parle et m\\'anime, il agit en soutien à des porteurs de projets et ce sont ces personnes là qui vont créer le monde de demain. ', 'quel_role': \"Je peux apporter mon soutien dans les domaines du droit de l'ESS, de la création de structures juridiques, de la fiscalité, de l'élaboration d'outils pour optimiser la gestion du projet : moyens intellectuels plutôt que matériels. \\nEt je suis très curieuse de connaître les autres projets qui seront, sans aucun doute, inspirants. \", 'materiel': None, 'matieres': ['Déchets organiques', 'Compost']}, 55: {'code_postal': 64100, 'competences_en_circularite': [\"Animation d'événement\", 'Coaching (prise de parole', ' pitch projet', ' exercice de théatre)', 'Conduite de travaux BTP', 'Développement personnel', 'Gestion de projet', 'Ingenierie bâtiment', 'Préparation aux rendez-vous', \"Raison d'être projet\", \"Atelier cohésion d'équipe\", 'Coach professionnel certifié', 'Facilitation'], 'familles_de_competence': ['Evénementiel', 'Coaching', 'Bâtiment', 'Entrepreneuriat', 'Ingénierie', 'Education'], 'pk_rejoindre_HBN': \"Je souhaite participer à la construction d'un monde nouveau.\\nOù collaboration et respect du vivant sont au centre.\\nOù chacun est libre et responsable.\\nJe crois que HBN incarne concrètement ce projet.\", 'quel_role': \"En tant que coach professionnel, je peux accompagner les porteurs de projet et bénévoles à contacter leur puissance personnelle et construire leur avenir souhaitable.\\nEn tant que bayonnais, je peux partager mon réseau.\\nEn tant qu'humain, j'aime découvrir les personnes qui m'entourent et bien rigoler ^^\", 'materiel': None, 'matieres': None}, 58: {'code_postal': 64310, 'competences_en_circularite': ['Pédagogie scolaire et adaptée'], 'familles_de_competence': ['Education'], 'pk_rejoindre_HBN': \"Pour partager des regards différents et complémentaires tous convergents vers un objectif commun :celui de voir notre territoire s'enrichir d initiatives innovantes et porteuses de sens.Pour mettre à disposition des compétences et mutualiser nos valeurs et envies communes.\", 'quel_role': 'Je peux partager des compétences en pédagogies et formation et particulièrement autour de publics a besoin particulier. Je peux mettre à disposition en fonction des projets un bout de terrain agricole et une borde pour accueillir des petits événements ou expérimentations. Je peux accueillir dans un local sur Ascain sous forme de dépôt vente des ateliers formation et des produits locaux autour des plantes .', 'materiel': ['Salle de réunion'], 'matieres': None}, 5: {'code_postal': 64600, 'competences_en_circularite': [\"Animation d'ateliers (sensibilisation écologique)\", 'Aide aux chantiers participatifs', 'Agroécologie', 'Analyse de base de données Excel', \"Animation d'événement\", 'Architecture de solutions', 'Biodiversité', 'Bricolage', 'Bases de données', 'Conception textile', 'Couture', \"Création d'applications\", 'Création de contenus pédagogiques', 'Cuisine', 'Décoration', 'Dessin', 'Developpement scientifique de materiaux', 'Eco-conception', 'Fresque du climat', 'Dessin technique', 'Gestion de projet', 'Gestion des déchets', ' formation au compostage', ' conférences compostage', 'Guide composteur', 'Illustrations', 'Connaissance sur les semailles', 'Jardinage', 'Monter une recyclerie', 'Peintures artistiques', 'Photographie', 'Sensibilisation aux enjeux environnementaux', 'SWOT', 'Traduction français / anglais'], 'familles_de_competence': ['Environnement/Ecologie', 'Evénementiel', 'Bâtiment', 'Agronomie', 'Ingénierie', 'Numérique', 'Artisanat', 'Education', 'Loisirs', 'Autres', 'Entrepreneuriat', 'Graphisme & Design', 'ESS', 'Audiovisuel'], 'pk_rejoindre_HBN': \"Je retrouve les valeurs que je défends dans l'esprit de HBN. Je suis intéressée par plusieurs projets et j'aimerais y contribuer.\", 'quel_role': 'Je souhaite être bénévole dans un premier temps, puis proposer mon propre projet.', 'materiel': ['Machine à coudre', 'Plastifieuse A4 A5 A6 ', 'Scie sauteuse', 'Petit outillage'], 'matieres': ['Déchets organiques', 'Tissus']}, 78: {'code_postal': 64210, 'competences_en_circularite': ['Création de contenus pédagogiques', 'Developpement commercial', 'Etude de marché', 'Gestion de projet', 'Marketing', 'Mentorat', 'Pitch commercial', 'Univers de marque', 'Vision', 'SWOT', 'Réseaux sociaux', 'Recherche de partenariat', \"Raison d'être projet\", 'Production d’articles'], 'familles_de_competence': ['Education', 'Commercial', 'Entrepreneuriat', 'Coaching', 'Communication', 'Numérique'], 'pk_rejoindre_HBN': \"Je souhaite rejoindre un mouvement engagée dans une dynamique créatrice d'entreprises et d'emplois à impact environnemental.\", 'quel_role': None, 'materiel': ['Appareil photo'], 'matieres': None}, 38: {'code_postal': 64100, 'competences_en_circularite': [\"Animation d'ateliers (sensibilisation écologique)\", \"Animation d'événement\", 'Appels à projets', 'Business plan', 'Gestion de projet', 'Marketing', 'Mentorat', 'Production de supports de communication'], 'familles_de_competence': ['Environnement/Ecologie', 'Evénementiel', 'Entrepreneuriat', 'Commercial', 'Coaching', 'Communication'], 'pk_rejoindre_HBN': 'Mon \"pourquoi\", ce qui m\\'anime, c\\'est créer du lien, partager mon réseau, aider à faire émerger de belles idées, réfléchir, échanger. Et tout cela pour des projets porteurs de sens... ', 'quel_role': \"Accompagner les porteurs de projet dans leurs réflexions stratégiques, les aider sur l'opérationnel et la communication, les mettre en relation avec des personnes pouvant les aider. Echanger, cogiter, avancer ! \", 'materiel': None, 'matieres': None}, 23: {'code_postal': 64600, 'competences_en_circularite': ['Gestion de projet', 'HACPP', 'Traduction français / anglais'], 'familles_de_competence': ['Entrepreneuriat', 'Education'], 'pk_rejoindre_HBN': \"rencontrer des gens dans le même état d'esprit\\ntrouver du support de compétences, mais aussi dans le courage d'aller au bout de mes idées\\ndonner un cadre à mes idées\", 'quel_role': None, 'materiel': ['Machine à coudre'], 'matieres': None}, 19: {'code_postal': 64100, 'competences_en_circularite': ['Bricolage'], 'familles_de_competence': ['Artisanat'], 'pk_rejoindre_HBN': \"Nous venons de naître pour bénéficier du réseau de compétences, de  nous inspirer d'autres projets, bénéficier la circularité des moyens \", 'quel_role': None, 'materiel': ['Appareil photo'], 'matieres': None}, 67: {'code_postal': 64700, 'competences_en_circularite': ['Business plan', 'Web developpement', 'Architecture de solutions', 'Strategie webmarketing', 'Spécifications techniques'], 'familles_de_competence': ['Entrepreneuriat', 'Numérique', 'Ingénierie', 'Communication'], 'pk_rejoindre_HBN': \"Fraîchement arrivé au Pays Basque après 4 années passées à l'étranger, j'ai besoin de me reconnecter avec mes convictions et mes valeurs. Le réseau HBN est un excellent moyen de connaître les initiatives locales et d'y contribuer pour vraiment avoir un impact. Je pense aussi qu'on est plus forts à plusieurs et qu'on a besoin de structures comme HBN permettant aux projets de se développer dans un contexte qui ne leur est pas encore favorable.\", 'quel_role': \"Je peux accompagner les membres d'HBN sur les problématiques liées au numérique : connectivité, architecture de solutions, spécifications techniques, suivi de développements.\\nMoi-même entrepreneur, je peux également conseiller les porteurs de projets pour leur business plan et leur stratégie de développement.\\n\", 'materiel': None, 'matieres': None}, 24: {'code_postal': 64600, 'competences_en_circularite': [\"Animation d'ateliers (sensibilisation écologique)\", \"Animation d'événement\", 'Marketing', 'Rédaction de contenu web', 'Traduction français / anglais'], 'familles_de_competence': ['Environnement/Ecologie', 'Evénementiel', 'Commercial', 'Numérique', 'Education'], 'pk_rejoindre_HBN': \"Je souhaite rejoindre HBN afin de faire vivre mon projet au sein d'une communauté qui partage mes valeurs. Par l'événementiel, j'espère continuer de sensibiliser le plus grand nombre inter réseau et hors réseau. Je souhaite apporter mon savoir faire à d'autres porteurs de projets à impact pour faire grandir les acteurs du changement sur la côte basco-landaise.  \", 'quel_role': None, 'materiel': None, 'matieres': ['Compost']}, 6: {'code_postal': 64260, 'competences_en_circularite': ['Appels à projets', \"Création d'entreprise\", 'Developpement commercial', 'Etude de marché', 'Négociation', 'Porteur de sens entrepreneurial'], 'familles_de_competence': ['Entrepreneuriat', 'Juridique/Admin/Finance', 'Commercial'], 'pk_rejoindre_HBN': \"J'ai rencontré Matthieu, et ses valeurs font écho aux actions que j'ai envie de porter\", 'quel_role': None, 'materiel': None, 'matieres': None}, 8: {'code_postal': 64500, 'competences_en_circularite': ['Gestion des déchets', ' formation au compostage', ' conférences compostage', 'Techniques commerciales', 'Marketing éthique', 'Réseaux de circularité', 'Réseau varié sur l’entrepreneuriat local et national', 'Pitch', 'Pitch commercial', 'Prospection', 'Suivi clientèle', \"Animation d'événement\", 'Developpement commercial'], 'familles_de_competence': ['Environnement/Ecologie', 'Commercial', 'ESS', 'Entrepreneuriat', 'Communication', 'Evénementiel'], 'pk_rejoindre_HBN': 'J’ai connu HBN après La Forêt de Higas que je suivais sur Fb et par curiosité  et intérêt  j’ai farfouillé à droite et à gauche et je suis tombé pile au milieu sur HBN en me disant c’est ça que je veux faire… j’ai pris mon temps pour consolider l’idée de mon projet, j’ai apprécié le soutien extérieur que j’ai déjà reçue d’autres structures aidantes et aujourd’hui je suis prête à partager votre éthique parfaite à mon avis. Quelques-uns de mes contacts perso et pros m’ont aussi parler de collecte et compost et de HBN directement – votre aura rayonne et c’est mérité\\n\\nJe sais pouvoir recevoir de HBN et je suis certaine de pouvoir donner aussi : le cercle vertueux me porte', 'quel_role': None, 'materiel': None, 'matieres': None}, 61: {'code_postal': 64200, 'competences_en_circularite': ['Vision', 'Bricolage', 'Coach', 'Développement personnel', 'Management', \"Animation d'événement\", \"Atelier cohésion d'équipe\", 'Création de contenus pédagogiques', 'Recrutement', 'SWOT'], 'familles_de_competence': ['Entrepreneuriat', 'Artisanat', 'Coaching', 'Evénementiel', 'Education', 'Ressources humaines'], 'pk_rejoindre_HBN': 'I think I can be a valuable addition to the volunteer team. Besides, I like to get involved locally. I also hope it will help me to build my network and learn French faster.', 'quel_role': 'I can imagine that project leaders or participating organisations come to me for reflections on issues concerning personal and organisational matters. Think of your own limiting beliefs that make you slow down your project. Or team building and visioning sessions for projectteams and organisations. In adition I could organise peer-to-peer coaching sessions where project leads laern from each other. ', 'materiel': ['Retroprojecteur', 'Petit outillage', 'Scie circulaire', 'Scie sauteuse', 'Ponceuse', 'Raboteuse'], 'matieres': None}, 63: {'code_postal': 64100, 'competences_en_circularite': ['Analyse de base de données Excel', \"Animation d'ateliers (sensibilisation écologique)\", 'Allergènes', 'Bricolage', 'Aide aux chantiers participatifs', 'Compétences fiscales et financières', 'Cuisine', 'Décoration', 'Enseignement', 'Zéro déchet'], 'familles_de_competence': ['Ingénierie', 'Numérique', 'Environnement/Ecologie', 'Evénementiel', 'Artisanat', 'Bâtiment', 'Juridique/Admin/Finance', 'Loisirs', 'Autres', 'Education'], 'pk_rejoindre_HBN': \"Je souhaite être un acteur local du changement. Je pense qu'il est nécessaire d'éduquer, accompagner le changement et la transition vers une décroissance. Revenir à du local, de saison et des bonheurs simples, respectueux du vivant.\", 'quel_role': \"Je ne sais pas trop. J'imagine que mon rôle dépendra des besoins de HBN... du contrôle de gestion, des thématiques naturo ou environnementales. J'ai un esprit structuré et organisé, ça peut servir !\", 'materiel': None, 'matieres': None}, 27: {'code_postal': 65520, 'competences_en_circularite': ['Agroécologie', \"Animation d'ateliers (sensibilisation écologique)\", 'Aide aux chantiers participatifs', \"Atelier cohésion d'équipe\", 'Biodiversité', 'Connaissance sur les semailles', 'Développement personnel', 'Couture', 'Création de contenus pédagogiques', 'Cuisine', 'Culture Coopérative/Collaborative', 'Décoration', 'Dessin', 'Eco-conception', 'Enseignement', 'Etude de faisabilité de projets agricoles', 'Jardinage', 'Ethnologie', 'Permaculture', 'Pédagogie scolaire et adaptée', 'Philosophie', 'Pitch', 'Planification', 'Porteur de sens entrepreneurial', 'Transition écologique', 'Geobiologie'], 'familles_de_competence': ['Agronomie', 'Environnement/Ecologie', 'Evénementiel', 'Bâtiment', 'Coaching', 'Artisanat', 'Education', 'Loisirs', 'ESS', 'Autres', 'Sciences sociales', 'Communication', 'Entrepreneuriat'], 'pk_rejoindre_HBN': 'Pour \"un monde meilleur\" lol ! surfait cette phrase ; mais il y a tellement à faire !\\nAujourd\\'hui commencer par moi, mon projet pour montrer l\\'exemple, après un échec de créer un écolieu en arrivant à Bidache (en 2018/19) !', 'quel_role': None, 'materiel': ['Machine à coudre', 'Outils de jardinage', 'Retroprojecteur', 'Serre', 'Tondeuse'], 'matieres': None}, 53: {'code_postal': 65360, 'competences_en_circularite': [\"Animation d'événement\", 'Compétences formelles d’organisation', 'Gestion de projet', 'Management', 'Rédaction de cahier des charges', 'Planification'], 'familles_de_competence': ['Evénementiel', 'Entrepreneuriat', 'Ingénierie'], 'pk_rejoindre_HBN': 'Les valeurs prônées par HBN font écho en moi. Je ressens la possibilité d’agir de façon concrète au sein de cette ruche et de pouvoir contribuer à faire grandir des Projets qui proposent des solutions pour minimiser notre impact, tout en tissant des liens entre leurs membres.\\nJe veux devenir acteur de cette démarche. Agir ensemble, par interactions, tout de suite, en local, et de manière vertueuse face aux défis environnementaux qui nous font face.', 'quel_role': 'J’ai plus de 20 ans d’expérience en Gestion de Projet à l’international. Je vous aiderai à cadrer votre Projet en amont, mais aussi à le dérouler, le piloter jusqu’à ce qu’il se concrétise : Etablir un Cahier des Charges, une Spécification ou une Note de Cadrage ; Planifier / Jalonner / Suivre / Anticiper / Rebondir ; Constituer et embarquer une équipe ; Animer des chantiers ; Coordonner des activités entre différents intervenants ; Organiser des évènements, des rencontres, des réunions.\\nJe vous aiderai à mettre « à plat » de façon structurée et organisée ce que vous avez « en tête » afin de définir le meilleur plan de bataille pour vous permettre de faire germer votre Projet avec toutes les chances de réussites.  ', 'materiel': None, 'matieres': None}, 60: {'code_postal': 64600, 'competences_en_circularite': [\"Animation d'ateliers (sensibilisation écologique)\", \"Animation d'événement\", \"Atelier cohésion d'équipe\", \"Création d'entreprise\", 'Developpement commercial', 'Fresque du climat', 'Gestion de projet', 'Management', 'Marketing', 'Marketing éthique', 'Planification', \"Raison d'être projet\", \"Recherche d'aides et de subventions\", 'Profilage clients - personnas', 'Sensibilisation aux enjeux environnementaux', 'Transition écologique', 'Univers de marque', \"Atelier d'adaptation au changement climatique\"], 'familles_de_competence': ['Environnement/Ecologie', 'Evénementiel', 'Coaching', 'Entrepreneuriat', 'Juridique/Admin/Finance', 'Commercial', 'Education', 'Marketing'], 'pk_rejoindre_HBN': 'Pour accompagner les projets locaux, développer mon réseau, être utile là où il y en a besoin', 'quel_role': \"Apporter mes compétences : gestion de projet, communication, créer des synergies là où c'est possible. Aller chercher des financements auprès de la Région et autres...?\", 'materiel': None, 'matieres': None}, 43: {'code_postal': 64510, 'competences_en_circularite': [\"Animation d'ateliers (sensibilisation écologique)\", \"Animation d'événement\", 'Appels à projets', \"Atelier cohésion d'équipe\", 'Business plan', 'Coach', 'Coaching (prise de parole', ' pitch projet', ' exercice de théatre)', 'Compétences formelles d’organisation', \"Création d'entreprise\", 'Developpement commercial', 'Développement personnel', 'Eco-conception', 'Gestion de projet', 'Ingénierie mécanique', 'Jardinage', 'Levées de fond', 'Management', 'Marketing', 'Mentor entrepreneurial', 'Organisations liberées', 'Permaculture', 'Préparation aux rendez-vous', \"Recherche d'aides et de subventions\", 'Recherche de financement', 'Réseau varié sur l’entrepreneuriat local et national', 'Spécifications techniques', 'SWOT', \"Test d'usage\", 'Fresque de la mobilité'], 'familles_de_competence': ['Environnement/Ecologie', 'Evénementiel', 'Entrepreneuriat', 'Coaching', 'Juridique/Admin/Finance', 'Commercial', 'Ingénierie', 'Loisirs', 'Agronomie', 'Education'], 'pk_rejoindre_HBN': \"Je connais Mathieu depuis plusieurs années, j'admire son énergie, son courage et son abnégation. Comme lui l'altruisme est une posture préférée. J ai observé la croissance de HBN sans pouvoir y dédier du temps, les choses changent à présent et je peux donc m'engager. Le collectif grandissant, va peut être devoir faire évoluer son modèle et sa structure, je pense pouvoir aider à cela et passer à une dimension qui permettra de réaliser la vision originelle.\", 'quel_role': \"Ex-chef d'entreprise et désormais coach professionnel certifié, je peux jouer les rôles de mentor ou de coach, trouver des ressources financières et participer aussi à des projets avec mes compétences d'ingénieur.\", 'materiel': ['Machine à souder', 'Karcher', 'Remorque', 'Scie circulaire', 'Scie sauteuse', 'Tondeuse'], 'matieres': None}, 21: {'code_postal': 64700, 'competences_en_circularite': ['Conception 3D', 'Gestion de projet', 'Rédaction de cahier des charges'], 'familles_de_competence': ['Ingénierie', 'Entrepreneuriat'], 'pk_rejoindre_HBN': 'J\\'ai rejoint \"Humans By Nature\", car si je n\\'ai pas encore le courage de changer pour un boulot plus en accord avec mes convictions, je me dois d\\'agir ! autrement ! en attendant !', 'quel_role': \"Je propose mes compétences en conception, pouvant gérer des projets complets : du besoin à la réalisation.\\n> concepts (j'aime faire différent :-), 3d, calcul de structure, gestion de projet et fournisseurs\\n> métal, plastique et composites (beurk), bois, structure textile, ... \\nJ'aime aussi clarifier les besoins... établir un cahier de charges.\\n\", 'materiel': None, 'matieres': None}, 12: {'code_postal': 64200, 'competences_en_circularite': ['Design thinking', \"Design d'expérience - UX\", 'Réseaux de circularité', 'Transition écologique'], 'familles_de_competence': ['Coaching', 'Graphisme & Design', 'ESS', 'Environnement/Ecologie'], 'pk_rejoindre_HBN': 'Rejoindre un réseau de personnes bienveillantes et porteuses de valeurs que je comprends, et Avancer sur mon projet ', 'quel_role': None, 'materiel': None, 'matieres': None}, 64: {'code_postal': 40130, 'competences_en_circularite': ['Marketing éthique', 'Etude de marché', 'SWOT', 'Maîtrise de Canva', 'Identité visuelle'], 'familles_de_competence': ['Commercial', 'Entrepreneuriat', 'Graphisme & Design', 'Communication'], 'pk_rejoindre_HBN': 'Rejoindre une communauté où l’on partage les mêmes aspirations/ valeurs est important pour moi. Échanges, motivations, conseils, questionnements, partage et bonne humeur autour de la thématique sur le développement durable sont autant de facteurs qui me poussent à rejoindre HBN.', 'quel_role': 'Je propose d’apporter mes compétences en tant que “porteur de compétences\" en matière de marketing et ainsi vous aider à valoriser votre offre sur le marché. Etude de marché, veille concurrentielle, définition de la cible, positionnement et déploiement de la stratégie sont autant de missions qui peuvent m\\'être confiées.', 'materiel': None, 'matieres': None}, 51: {'code_postal': 64500, 'competences_en_circularite': ['Production d’articles', 'Production de supports de communication'], 'familles_de_competence': ['Communication'], 'pk_rejoindre_HBN': \"Pour favoriser des projets participant d'une société plus humaine et respectueuse de notre terre.\", 'quel_role': \"Je me propose de conseiller et accompagner toute personne désireuse de travailler la stratégie de communication de son projet et sa présentation sous forme rédigée à quelque stade de celui-ci.\\nJ'ai un diplôme Sciences Po Bordeaux, un DESS communication politique et sociale Paris 1 Panthéon Sorbonne et une vingtaine d'années d'expérience dans la rédaction print, web et pour la vidéo.\\n\", 'materiel': None, 'matieres': None}, 11: {'code_postal': 64600, 'competences_en_circularite': [\"Atelier cohésion d'équipe\", 'Business plan', 'Coach professionnel certifié', 'Conception textile', \"Création d'entreprise\", 'Culture Coopérative/Collaborative', 'Développement personnel', 'Developpement scientifique de materiaux', 'Eco-conception', 'Etude de marché', 'Ingenierie textile', 'Levées de fond', 'Marketing', 'Porteur de sens entrepreneurial', \"Qualité de l'air en intérieur\", \"Recherche d'aides et de subventions\", 'Recherche de financement', 'Recrutement', 'Ressources humaines (RH)', 'Suivi production', 'SWOT'], 'familles_de_competence': ['Coaching', 'Entrepreneuriat', 'Ingénierie', 'Juridique/Admin/Finance', 'ESS', 'Environnement/Ecologie', 'Commercial', 'Ressources humaines'], 'pk_rejoindre_HBN': \"PureNat est une startup industrielle deeptech qui a à cœur d'adopter un modèle économique vertueux pour son développement : circularité, écoconception, économie de la fonctionnalité, allongement des durées d'usage, recyclage, industrie propre, ... Nous sommes aussi un entreprise de l'économie sociale et solidaire, avec des valeurs fortes tournées sur l'humain, son bien être et son bien vivre au sein de l'entreprise. HBN est une association qui fait sens pour nous, qui partage nos valeurs et à travers laquelle nous pouvons transmettre des bonnes pratiques et puiser de l'expérience des autres.\", 'quel_role': None, 'materiel': None, 'matieres': None}, 48: {'code_postal': 64600, 'competences_en_circularite': ['Univers de marque', 'Réseaux sociaux', 'Marketing', 'Gestion de projet', 'Management'], 'familles_de_competence': ['Commercial', 'Communication', 'Numérique', 'Entrepreneuriat'], 'pk_rejoindre_HBN': \"Communicante convaincue, je suis une adepte de la mise en réseaux. Avec un bagage de plus de 20 années d'expériences Pro en communication et marketing au sens large, je souhaite mettre mon écoute, mes conseils et idées à disposition des projets du collectif HBN.\", 'quel_role': 'Conseiller (et challenger) et/ou accompagner les projets dans leurs problématiques potentielles de communication/marketing, telles que positionnement, image de marque, branding, stratégie de com, activation leviers de com, stratégie de réseaux etc.', 'materiel': None, 'matieres': None}, 7: {'code_postal': 64240, 'competences_en_circularite': ['Production d’articles', 'Aide aux chantiers participatifs', 'Animation tv/radio'], 'familles_de_competence': ['Communication', 'Bâtiment', 'Audiovisuel'], 'pk_rejoindre_HBN': None, 'quel_role': None, 'materiel': None, 'matieres': None}, 13: {'code_postal': 64122, 'competences_en_circularite': ['Gestion de projet', 'Ligne de vie', 'SWOT', \"Raison d'être projet\", 'Business plan', 'Pitch', 'Photographie', 'Gouvernance démocratique', 'Etude de marché', 'Suivi production', 'Bilan carbone', 'Facilitation'], 'familles_de_competence': ['Entrepreneuriat', 'Autres', 'Communication', 'Audiovisuel', 'ESS', 'Commercial', 'Ingénierie', 'Environnement/Ecologie', 'Education'], 'pk_rejoindre_HBN': \"J’ai aligné mes valeurs (justice et justesse, éthique, environnement) avec mes compétences (porter des projets, donner du sens, des perspectives, mettre des femmes et des hommes en énergie) pour donner au plus grand nombre l’envie et la capacité de se réaliser dans le domaine de l'entreprenariat à impact. Je crois qu’en multipliant ces petites initiatives nous parviendront en un grand tout vertueux..\", 'quel_role': None, 'materiel': ['Motoculteur', 'Appareil photo', 'Machine à coudre', 'Canadienne', 'Ramasse pommes de terre', 'Karcher', 'Remorque'], 'matieres': None}, 15: {'code_postal': 64600, 'competences_en_circularite': ['Aide aux chantiers participatifs', \"Animation d'événement\", 'Conduite de travaux BTP', 'Gestion de projet', 'Ingenierie bâtiment'], 'familles_de_competence': ['Bâtiment', 'Evénementiel', 'Entrepreneuriat', 'Ingénierie'], 'pk_rejoindre_HBN': \"Avec HBN nous partageons les mêmes valeurs qui sont : la participation active à la transition écologique et au développement durable ainsi que l'entraide, la solidarité, l'humanité à travers la collaboration de chaque membre de l'association. \\nLes compétences des membres d'HBN pourront ainsi contribuer au développement d'EKOBESTA ainsi qu'à la bonne mise en route de l'entreprise. \\nHBN pourra également m'aider à accroitre mon réseau de partenaires ainsi que de clients.\", 'quel_role': None, 'materiel': None, 'matieres': None}, 39: {'code_postal': 64200, 'competences_en_circularite': ['Conception textile', 'Couture', 'Eco-conception', 'Production d’articles', 'Traduction français / espagnol', 'Univers de marque'], 'familles_de_competence': ['Ingénierie', 'Artisanat', 'Environnement/Ecologie', 'Communication', 'Education', 'Commercial'], 'pk_rejoindre_HBN': \"Pour partager , échanger, trouver des aides pour des compétences dont j'ai besoin et en donner, si possible.\", 'quel_role': None, 'materiel': ['Machine à coudre'], 'matieres': ['Tissus']}, 65: {'code_postal': 64100, 'competences_en_circularite': ['Aide aux chantiers participatifs', 'Culture Coopérative/Collaborative', 'Design thinking', 'Gestion de projet', 'Peintures artistiques', 'Idéation', \"Raison d'être projet\", 'Rédaction de cahier des charges', 'Réseaux de circularité', 'SWOT', 'Recherche de partenariat'], 'familles_de_competence': ['Bâtiment', 'ESS', 'Coaching', 'Entrepreneuriat', 'Graphisme & Design', 'Ingénierie', 'Commercial'], 'pk_rejoindre_HBN': 'Je souhaite mettre à disposition mes compétences pour soutenir les projets collaboratifs et participatifs locaux qui œuvrent à la transition écologique, à la valorisation et la préservation du patrimoine naturel. Les valeurs de HBN correspondent à ce que je recherche. ', 'quel_role': 'J’aurai plaisir à partager mes connaissances et mes compétences professionnelles notamment en gestion de projet et intelligence collective… J’aime particulièrement la phase de maturation et de définition des projets (raison d’être, définition des besoins et de la stratégie de projet, mutualisation des intérêts et des compétences des parties prenantes…). \\nJe serai également ravie de partager mon réseau et ma veille sur l’innovation et la dynamique du développement durable, notamment au Pays Basque. Je m’intéresse à de nombreux sujets, et entre autre, à la valorisation des bioressources locales, et des microorganismes en particulier.  ', 'materiel': ['Machine à coudre', 'Outils de jardinage', 'Petit outillage'], 'matieres': ['Compost']}, 57: {'code_postal': 64700, 'competences_en_circularite': ['Web developpement'], 'familles_de_competence': ['Numérique'], 'pk_rejoindre_HBN': \"J'ai eu envie de rejoindre HBN pour rencontrer des gens localement qui sont sur la même longueur d'onde et collaborer sur des projets qui ont du sens pour l'environnement et la société 🌿  \", 'quel_role': \"J'aime me plonger dans le fonctionnement des plate-formes informatiques et sites web en travaillant de manière Agile. Je serais ravie de travailler en équipe pour apprendre grace aux compétences et points de vue de chacun afin de chercher des idées créatives et trouver des solutions inspirantes ensemble😃\", 'materiel': None, 'matieres': None}, 62: {'code_postal': 64100, 'competences_en_circularite': ['Identité visuelle', 'Graphisme', 'Illustrations', 'Dessin', 'Charte graphique', 'Cuisine', 'Décoration', \"Design d'expérience - UX\", 'Design thinking', 'Idéation', 'Profilage clients - personnas', 'Photographie', 'Regard artistique', 'Web design'], 'familles_de_competence': ['Communication', 'Graphisme & Design', 'Loisirs', 'Autres', 'Coaching', 'Ingénierie', 'Marketing', 'Audiovisuel', 'Numérique'], 'pk_rejoindre_HBN': \"Ça a été le coup de foudre lorsque l'on m'a parlé d'HBN. Un moyen incroyable de changer les choses. J'aimerais en être acteur.\", 'quel_role': 'Ayant un profil assez éclectique, je pense pouvoir donner des conseils en stratégie de communication (campagne publicitaire, photo, vidéo...) et évènementiel en plus de mes compétences en UX design, graphisme et illustration.', 'materiel': None, 'matieres': None}, 29: {'code_postal': 40290, 'competences_en_circularite': ['Agroécologie', 'Jardinage', 'Permaculture'], 'familles_de_competence': ['Agronomie', 'Loisirs'], 'pk_rejoindre_HBN': 'Rejoindre HBN m’a paru une évidence, étant en total accord avec leurs motivations et leur éthique.', 'quel_role': None, 'materiel': ['Ordinateur'], 'matieres': None}, 68: {'code_postal': 64100, 'competences_en_circularite': ['Aide aux chantiers participatifs', 'Analyse de base de données Excel', \"Animation d'ateliers (sensibilisation écologique)\", 'Bilan carbone', 'Biodiversité', 'Calcul de bilan carbone de projet', 'Communication non violente', 'Couture', 'Culture Coopérative/Collaborative', \"Design d'expérience - UX\", 'Fresque du climat', 'Cuisine', 'Design thinking', 'Eco-conception', 'Zéro déchet', 'Eco-construction', 'Low techs', 'mobilité douce', 'Ingenierie textile', 'Prospection', 'Traduction français / espagnol', 'Photographie', 'Propriété industrielle', 'Philosophie', \"Mesure d'impact social et environnemental\"], 'familles_de_competence': ['Bâtiment', 'Ingénierie', 'Numérique', 'Environnement/Ecologie', 'Evénementiel', 'Communication', 'Artisanat', 'ESS', 'Graphisme & Design', 'Education', 'Loisirs', 'Coaching', 'Entrepreneuriat', 'Audiovisuel', 'Juridique/Admin/Finance'], 'pk_rejoindre_HBN': 'Faire naitre des synergies, apporter mon expérience & mes savoirs à des solutions pour faire de demain et monde moins mauvais ', 'quel_role': 'Facilitateur \\nIngénieur \\nMise en Réseau', 'materiel': ['Machine à coudre'], 'matieres': ['Tissus']}, 59: {'code_postal': 64990, 'competences_en_circularite': [\"Animation d'ateliers (sensibilisation écologique)\", 'Compétences formelles d’organisation', 'Developpement commercial', \"Mesure d'impact social et environnemental\", 'Photographie', 'Recherche de fournisseurs', 'Rédaction de cahier des charges', 'Management des systèmes qualités', 'HACPP', 'Allergènes'], 'familles_de_competence': ['Environnement/Ecologie', 'Evénementiel', 'Entrepreneuriat', 'Commercial', 'Ingénierie', 'Audiovisuel'], 'pk_rejoindre_HBN': 'Aider les porteurs de projet de mon territoire à développer leurs idées, à se connecter avec les acteurs existants et à faire rayonner notre territoire comme un modèle vertueux dans et en dehors des frontières de notre département et région.', 'quel_role': \"Je peux apporter mon expérience et mes connaissances en achats, logistique des circuits de distribution et bien évidemment en qualité, HACCP aux porteurs de projet. \\nEgalement formatrice, je peux participer à des ateliers formations autour de la lutte contre le gaspillage alimentaire, la réduction des déchets et la réutilisation ou le recyclage des ressources.\\nJe souhaite également contribuer au rayonnement des initiatives vertueuses que ce soit celle du territoire ou celles inspirantes existantes ailleurs car je suis convaincue des vertus de l'effet papillon\", 'materiel': None, 'matieres': None}, 84: {'code_postal': 64210, 'competences_en_circularite': ['Photographie', 'Vidéo (Tournage', ' montage) - Photo'], 'familles_de_competence': ['Audiovisuel'], 'pk_rejoindre_HBN': \"Nous souhaitons mettre à disposition nos compétences en communication et en production audiovisuelle au service de la transition, et le réseau HBN est un collectif idéal pour nous rendre utiles.\\n\\nNotre projet d'agence-ferme urbaine est un projet ambitieux, nous sommes une toute petite équipe et nous avons besoin de conseils, d'aide et d'idées pour le faire avancer. Nous espérons créer au sein du réseau HBN les synergies qui permettront à ce beau projet de se concrétiser. \", 'quel_role': None, 'materiel': ['Ponceuse', 'Scie sauteuse', 'Scie circulaire', 'Dremel', 'Salle de réunion'], 'matieres': None}, 80: {'code_postal': 64200, 'competences_en_circularite': ['Compétences formelles d’organisation', 'Cuisine', 'Etude de marché', 'Fresque du climat', 'Gestion de projet', 'Management', 'Marketing', 'Stratégie acquisition client', 'Strategie webmarketing', 'SWOT', 'Univers de marque'], 'familles_de_competence': ['Entrepreneuriat', 'Loisirs', 'Commercial', 'Education', 'Environnement/Ecologie', 'Communication', 'Numérique'], 'pk_rejoindre_HBN': \"Rejoindre une communauté d'acteurs engagés pour l'environnement et pouvoir être dans l'action en contribuant et collaborant sur des projets concrets.\", 'quel_role': \"Je souhaite commencer en tant que porteuse de compétences dans le domaine du Marketing et la Gestion de projet. Cela va de la définition de l'offre (produit, prix, cible...), à sa communication avec les parties prenantes et l'acquisition de nouveaux clients. \\n\\nJe vois le marketing comme un outil permettant de concilier des objectifs à court terme et long terme (limites planétaires), mais c'est surtout l'opportunité de créer des nouveaux imaginaires qui dessineront la société de demain.\", 'materiel': None, 'matieres': None}, 32: {'code_postal': 40150, 'competences_en_circularite': [\"Animation d'ateliers (sensibilisation écologique)\", \"Animation d'événement\", 'Coaching (prise de parole', ' pitch projet', ' exercice de théatre)', \"Atelier cohésion d'équipe\", 'Création de contenus pédagogiques', 'Culture Coopérative/Collaborative', 'Identité visuelle', 'Marketing', 'Négociation', 'Scénographie'], 'familles_de_competence': ['Environnement/Ecologie', 'Evénementiel', 'Coaching', 'Education', 'ESS', 'Communication', 'Commercial', 'Graphisme & Design'], 'pk_rejoindre_HBN': 'Rejoindre la communauté HBN, découvrir les talents de chacun, voir comment je peux contribuer pour aller plus loin collectivement ', 'quel_role': 'Je ne sais pas encore', 'materiel': None, 'matieres': None}, 41: {'code_postal': 64310, 'competences_en_circularite': ['Coaching (prise de parole', ' pitch projet', ' exercice de théatre)', 'Conception 3D', 'Design thinking', 'Low techs', 'Univers de marque', 'Vision', 'Regard artistique', 'SWOT', 'Pitch', 'Graphisme', 'Idéation', 'Identité visuelle', 'Eco-conception', 'Mentorat'], 'familles_de_competence': ['Coaching', 'Ingénierie', 'Environnement/Ecologie', 'Commercial', 'Entrepreneuriat', 'Loisirs', 'Communication', 'Graphisme & Design'], 'pk_rejoindre_HBN': \"J'ai envie de rejoindre HBN pour :\\n- rencontrer d'autres personnes partageant des valeurs communes de sobriété, respect du vivant et entraide,\\n- partager mon expérience et mes compétences auprès de porteurs de projets pour qui cela pourrait être utile,\\n- contribuer collectivement à accélérer localement la transition vers des modes vie à impact minimal.\", 'quel_role': \"Dans un premier temps je vois mon rôle comme intervenant ponctuel auprès de porteurs projet ayant des besoins ciblés : conseil en stratégie produit, conseil en identité de marque, conseil en développement produit, recherche de contacts dans l'industrie, conseil en rédaction de document de présentation à destination de financeurs...\", 'materiel': None, 'matieres': None}, 81: {'code_postal': 64100, 'competences_en_circularite': ['Coach', 'Communication non violente', 'Développement personnel', 'Enseignement', 'Levées de fond', 'Gouvernance démocratique', 'Management', 'Marketing', 'Marketing éthique', 'Porteur de sens entrepreneurial', 'Traduction français / anglais', 'Transition écologique'], 'familles_de_competence': ['Communication', 'Coaching', 'Education', 'Entrepreneuriat', 'ESS', 'Commercial', 'Environnement/Ecologie'], 'pk_rejoindre_HBN': \"Je suis animé par l'intelligence émotionnelle au service du faire ensemble, l'écologie relationnelle au service du bon développement de projets éco-agissants. \\n\\nTrès envie de relier à des personnes viscéralement engagés pour un monde meilleur, et de contribuer à l'échelle du territoire qui m'a vu naître. HBN me donne l'opportunité de rencontrer un tel écosystème et de le nourrir, tout en me nourrissant. \", 'quel_role': \"En tant que formateur certifié au modèle PCM, je partagerai des clés pour ajuster sa communication en vue d'harmoniser les relations au sein de projets éco-agissants. Ceci afin que ces projets soient aussi écologiques pour celles et ceux qui les portent. \\n\\nAu besoin et à l'envie, nous pourrons organiser des séances de yoga, de naturopathie ou de massages, pour prendre soin de celles.ceux qui prennent soin du monde !\\n\\n\", 'materiel': None, 'matieres': ['Compost']}, 37: {'code_postal': 64480, 'competences_en_circularite': ['Regard artistique', 'Identité visuelle', 'Illustrations', 'Peintures artistiques', 'Scénographie', 'Cuisine', 'Jardinage', 'Décoration'], 'familles_de_competence': ['Loisirs', 'Communication', 'Graphisme & Design', 'Autres'], 'pk_rejoindre_HBN': 'Pour leur valeurs qui me parlent et qui me motivent a ne plus agir seule. On est plus fort à plusieurs', 'quel_role': 'Auditer, comprendre et accompagner de nouveaux projets dans la limite de mes compétences: Créations graphiques, regard artistique, identité visuelle, illustrations, peintures artistique, scénographie, conseil en stratégie commerciale, cuisine et restauration, jardinage et culture potagère..Etre actif physiquement et aider les autres.', 'materiel': None, 'matieres': None}, 3: {'code_postal': 64600, 'competences_en_circularite': ['Vidéo (Tournage', ' montage) - Photo', 'Photographie', 'Réseaux sociaux', 'Production d’articles'], 'familles_de_competence': ['Audiovisuel', 'Communication', 'Numérique'], 'pk_rejoindre_HBN': \"Pour pouvoir mettre mes compétences aux services de projets écologiques mais aussi pour trouver un collectif de valeurs. Enfin, j'adore les histoires et, derrière chaque projet, il y en a souvent une belle à connaître et raconter !\", 'quel_role': 'Je peux réaliser des montages vidéos et photos pour la présentation des projets, ainsi que rédiger des articles ou offrir des conseils en communication (bien réaliser son pitch, résumer son projet, conseils pour réseaux sociaux...). ', 'materiel': None, 'matieres': None}, 76: {'code_postal': 64200, 'competences_en_circularite': ['Pitch commercial', \"Animation d'événement\", 'Expertise en prise de parole'], 'familles_de_competence': ['Commercial', 'Evénementiel', 'Coaching'], 'pk_rejoindre_HBN': 'Engagé depuis quelques années dans l\\'accompagnement et la formation d\\'entreprises de l\\'ESS, HbN est tout \"naturellement\" et localement un projet qui fait sens pour moi.', 'quel_role': \"HbN a vocation à faire connaître des porteurs de projets et des initiatives positives. Je veux à ma façon, via des ateliers ou du coaching, les encourager et leur donner de la confiance à l'oral pour mettre en avant leurs activités, leurs succès ou leurs besoins.\\n\", 'materiel': ['Tondeuse', 'Retroprojecteur', 'Enceintes'], 'matieres': None}}"
      ]
    },
    {
      "cell_type": "code",
      "source": [
        "data_projet = {'Gioia': {'code_postal': 64270, 'description': 'Creation d’un fournil avec son propre moulin, production locale de boulangerie et patisserie en bio suivant les saisons, et pain au levain.', 'matières_entrantes': 'Produit locaux matière premiere alimentaire', 'domaine_activite': 'Alimentation', 'coproduits': 'Déchet compostable en majeur partie', 'ODD': ['3-Bonne santé et bien-être'], 'besoin_actuel': 'Creation site internet\\nCollecte de fond'}, 'VRACOOP': {'code_postal': 64500, 'description': \"Vracoop développe des solutions pour faciliter la vente de produits en vrac dans les commerces et ainsi diminuer les déchets d'emballages. \\n\\nDes épiceries vrac sont équipées d'un système d'encaissement spécialisé, permettant aux consommateurs de rapporter leurs propres contenants et de déduire automatiquement leurs poids au moment du passage en caisse. \\n\\nAussi le silo distributeur Vracoop et le bac sont éco-conçus et fabriqués localement, ils sont à la fois économiques et réduits en plastique pour que chaque commerçant puisse mettre en place aisément son rayon vrac. \\n\\nEnfin, l'application web maYam apporte information utile et traçabilité pour rendre le vrac encore plus transparent et le rendre aussi irréprochable que le pré-emballé.\", 'matières_entrantes': 'Bois', 'domaine_activite': 'Alimentation,Déchets', 'coproduits': 'Palettes, cartons', 'ODD': ['3-Bonne santé et bien-être', '11-Villes et communautés durable', '12-Consommation et production responsables'], 'besoin_actuel': None}, 'ERRO ETXEA': {'code_postal': 64120, 'description': \"ERRO ETXEA : Conception et construction d'un habitat durable avec activités de tourisme au Pays Basque.\\n-Minimiser l'impact visuel et environnemental dans la construction.-Utiliser des matériaux recyclés et renouvelables disponibles en local (- de 250km).\\n-Viser l'auto suffisance énergétique (avec raccord au réseau traditionnel en secours si nécessaire).\\n-Maximiser le captage en eaux pluviales disponibles sur le terrain avec utilisation en circuit fermé et traitement biologique pour les équipements (eau domestique, arrosage potager et piscine biologique).\\n-Respecter les codes architecturaux du pays baque. Orientation, ouverture, couleurs, colombages, côté est seulement, etc.\\n-Proposer des séjours à thèmes en partenariat avec les guides touristiques locaux sur différents thèmes (histoire, mythes, gastronomie, faune et flore endémique).\\n\\n\", 'matières_entrantes': 'Projet de construction avec des matières recyclés ou naturelles. Écosystème déjà bien défini avec des entités locales (voir dossier).', 'domaine_activite': 'Bâtiment,Autre,Energie', 'coproduits': 'Normalement, très très très peu !', 'ODD': ['6-Eau propre et assainissement', \"7-Energie propre et d'un coût abordable\", '11-Villes et communautés durable', '3-Bonne santé et bien-être'], 'besoin_actuel': 'Aide pour le plan de financement et Business plan.'}, 'Etoiles et Toiles': {'code_postal': 64200, 'description': 'Une marque écoresponsable de vêtements en lin français fabriqués au Portugal et de foulards en soie fabriqués à Lyon.', 'matières_entrantes': \"Pour l'instant, rien\", 'domaine_activite': 'Education', 'coproduits': 'Du lin, maille et chaîne et trame.', 'ODD': ['3-Bonne santé et bien-être', '8-Travail décent et croissance économique', '12-Consommation et production responsables', '13-Mesures relatives à la lutte contre les changements climatiques', '14-Vie aquatique', '15-Vie terrestre'], 'besoin_actuel': 'oui, sur les recherches de financements et sur le marketing des réseaux.'}, 'Veggie Basque ': {'code_postal': 64600, 'description': 'Veggie Basque vise à démocratiser, loin des clichés et dans la bienveillance, la\\ncuisine végétalienne et le mode de vie vegan. À travers les réseaux sociaux\\n@veggiebasque (portraits, recettes, infos) mais aussi des initiatives tel qu\\'un\\n\"Veggie Pass\" (carnets de réduction pour inciter à tester les plats végétariens\\net cuisiner chez soi), des conférences, interventions etc...', 'matières_entrantes': 'Matière grise', 'domaine_activite': 'Alimentation,Education', 'coproduits': None, 'ODD': ['2-Zéro faim', '3-Bonne santé et bien-être', '12-Consommation et production responsables', '14-Vie aquatique', '15-Vie terrestre', '13-Mesures relatives à la lutte contre les changements climatiques'], 'besoin_actuel': \"HBN pourrait nous aider pour la création d'un site internet mais aussi pour des\\nbrainstorming pour affiner le Veggie Pass (format, impressions...)\"}, 'La Graine Digitale': {'code_postal': 64210, 'description': 'La Graine Digitale, c’est une agence de communication et de production d’un tout nouveau genre. \\n\\nNotre ambition ? Impulser un nouveau modèle économique où l’humain et l’environnement occupent une place centrale.\\n\\nComment ? \\nEn utilisant les bénéfices de notre agence pour régénérer l’humain et la Terre. \\n\\nConcrètement ... \\nEn implantant notre agence au sein d’une ferme urbaine, nous voulons créer à la fois un lieu de co-working, de production agricole, de partage et de rencontre. Un lieu au service de la transition sociale et environnementale. ', 'matières_entrantes': 'De matière grise !!', 'domaine_activite': 'Autre', 'coproduits': None, 'ODD': ['3-Bonne santé et bien-être', '11-Villes et communautés durable', '12-Consommation et production responsables', '17-Partenariats pour la réalisation des objectifs'], 'besoin_actuel': \"Aide à la création d'un business modèle\\nCompétences en marketing digital\\nPartenariat et relations avec les collectivités territoriales\\nOrganisation d'évènements\\n\\n\\n\"}, 'Txalo Kompost': {'code_postal': 64600, 'description': \"Le projet BAB Compostage et Valorisation vise à valoriser les biodéchets sur le secteur du BAB (Bayonne, Anglet, Biarritz). En effet, les biodéchets collectés par la municipalité sont, certes, traités mais ne permettent pas leur valorisation en tant que compost de qualité.\\nPar ailleurs, le tri sélectif n'étant pas contraint par la loi, et donc le mauvais tri n'étant pas sanctionné, il arrive fréquemment qu'un biodéchet plein d'eau et de ressource finisse sa vie dans l'incinérateur.\\nLe but de mon projet est donc de permettre aux acteurs privés ou publics de rendre vertueux le cycle de la vie du biodéchet et réduire par la même occasion la production du dioxyde de carbone.\", 'matières_entrantes': 'Seaux, bâches, pèles, fourche, tenus de jardinage, sachets en papier, broyats/matières sèches du jardin', 'domaine_activite': 'Déchets', 'coproduits': 'Eau riche en matières organiques', 'ODD': ['11-Villes et communautés durable', '15-Vie terrestre', '13-Mesures relatives à la lutte contre les changements climatiques'], 'besoin_actuel': \"J'ai besoin d'aide pour mon business plan et des conseils sur mon modèle économique. \\nMême si pour débuter je vais probablement passer par une couveuse d'entreprise.\"}, 'Bioclimakit': {'code_postal': 64122, 'description': \"Rendre la culture autonome possible toute l'année à tous les particuliers.\", 'matières_entrantes': None, 'domaine_activite': 'Alimentation,Bâtiment,Energie', 'coproduits': None, 'ODD': None, 'besoin_actuel': None}, \"A.A.R.C.E - Association d'aide au reboisement et à la conversion écologique\": {'code_postal': 40700, 'description': \"Réapprendre à collaborer avec la nature par la plantation d'arbres sur les exploitations.\", 'matières_entrantes': None, 'domaine_activite': 'Alimentation', 'coproduits': None, 'ODD': None, 'besoin_actuel': None}, 'Agence Halo ': {'code_postal': 64600, 'description': 'Agence HALO est une agence d’événementiel pour mettre en lumière des projets engagés tout en fédérant une communauté durable en : \\n\\n- Apportant main forte sur des événements publics (salon, festival à impact etc) \\n- Proposant des solutions alternatives à des activités de team building lors de séminaires privés sur la Côte Basque. \\n\\nMon objectif : faire de l’événementiel durable. C’est à dire, proposer un événement soucieux de l’environnement à tous les niveaux de la chaîne (logistique, gestion des déchets, alimentation etc) et sensibiliser par une activité “slow” qui apporte une valeur ajoutée aux participants et qui soit durable dans le temps (prise de conscience, changement de comportement). ', 'matières_entrantes': None, 'domaine_activite': 'Autre', 'coproduits': None, 'ODD': ['11-Villes et communautés durable', '12-Consommation et production responsables', '4-Education de qualité', '5-Egalité entre les sexes'], 'besoin_actuel': 'Définition de mes offres, prospection, pitch '}, 'AIMA': {'code_postal': 64270, 'description': \"Sa mission première est de donner une seconde vie aux objets et ainsi leur éviter d'être considérés comme déchets.\\nPar ailleurs elle rend ces objets très accessibles en prix en local ou en support à l'étranger\", 'matières_entrantes': None, 'domaine_activite': 'Biens de consommation', 'coproduits': None, 'ODD': None, 'besoin_actuel': None}, 'Ecole de la Nature': {'code_postal': 64510, 'description': 'Notre collectif ‘Familles en transition Béarn’ propose la création d’un lieu pour repenser nos modes de vie et d’éducation, pour amorcer une transition écologique et locale. Ce projet consiste en la création d’une école de la nature, inspirée des forest-schools des pays nordiques, à laquelle est adossé un pôle d’apprentissage intergénérationnel.\\n\\nL’école de la nature du Béarn est une école indépendante, laïque et innovante. Son but est d’enrichir le paysage éducatif français, en proposant une approche éducative diversifiée, en réponse à la variété des aspirations, aptitudes et besoins pédagogiques propres à chaque enfant.\\n\\nPour nous, l’école de la nature répond à une demande forte, des familles, mais aussi des enfants qui aspirent à davantage de connexion à la nature et à plus de souplesse dans les rythmes scolaires.', 'matières_entrantes': None, 'domaine_activite': 'Education', 'coproduits': None, 'ODD': ['4-Education de qualité', '10-Inégalités réduites', '11-Villes et communautés durable'], 'besoin_actuel': None}, \"Ecolieux porté par Au Jardin de Corps et d'Esprit \": {'code_postal': 64520, 'description': \"Créer un ecolieu pédagogique et de production sur le thème du Pétale Santé de la permaculture, en écosystème professionnel où la nature est au coeur du projet ainsi que le prendre soin de l'humain !\\nwww.aujardindecorpsetd'esprit.fr porte le projet. L'association est en pleine mutation et cherche un nouveau lieu.\", 'matières_entrantes': 'Une terre et des humains engagés ', 'domaine_activite': 'Alimentation,Education,Autre', 'coproduits': 'Rien ne se perd, tous ce recyclé. ', 'ODD': ['1-Pas de pauvreté', '2-Zéro faim', '3-Bonne santé et bien-être', '4-Education de qualité', '8-Travail décent et croissance économique', '12-Consommation et production responsables', '15-Vie terrestre', '17-Partenariats pour la réalisation des objectifs'], 'besoin_actuel': \"Rencontrer des permaculteurs pour reprendre le Design, trouver des collègues professionnels qui aimeraient ce projet et un nouveau terrain pour l'ecolieu.\"}, 'Nasailora- la reine des prés': {'code_postal': 64500, 'description': \"Nous souhaitons créer une alliance entre les plantes médicinales et les abeilles : les unes butinées se développeront, les autres récoltant le pollen se nourriront. Grâce à leur entraide réciproque elles se reproduiront. Nous croyons en l'équilibre fragile de la nature et de l'écosystème. Conscients des besoins de l'abeille pour se nourrir, nous cherchons un terrain pour accueillir ce projet qui soit situé dans un environnement propice aux butineuses, et sain pour l'épanouissement de plantes destinées à une consommation thérapeutique.\", 'matières_entrantes': \"matière végétale : graines, plants (le biotope du terrain guidera le choix des espèces médicinales et mellifères à développer) engrais, compost; bois (clôture, bac, piquet pour ombrière) ; \\nrègne animal : essaims d'abeilles noires\\nautres : tuyaux pour l'irrigation; plaques de germination, ruches, serre, \\n \", 'domaine_activite': 'Alimentation,Autre,Biens de consommation', 'coproduits': None, 'ODD': ['3-Bonne santé et bien-être', '4-Education de qualité', '11-Villes et communautés durable', '12-Consommation et production responsables', '15-Vie terrestre', '10-Inégalités réduites', '2-Zéro faim'], 'besoin_actuel': \"Nous avons besoin d'aide pour commencer à construire ce projet; ou comment transformer un rêve en réalité. Il nous faut bâtir une structure juridique, trouver un terrain agricole, continuer d'apprendre à mieux connaître la terre et les abeilles.\"}, 'Forêt comestible de Higas': {'code_postal': 40290, 'description': \"Palier localement aux problèmes de réchauffement climatique, de déclin de la biodiversité, de traçabilité alimentaire, d'érosion et de pollution des terres et des eaux\", 'matières_entrantes': None, 'domaine_activite': 'Alimentation', 'coproduits': None, 'ODD': None, 'besoin_actuel': None}, 'PAÏ': {'code_postal': 64700, 'description': \"J'ai repris l'entreprise PAÏ qu'avaient crée Patrice et Sandrine car le concept simple et positif de leur activité me semblait correspondre à mes ambitions... simples et positives ;-)\\nJe fabrique et vends des pailles en bambous (et d'autres objets à venir), après avoir récolté au pays basque cette espèce invasive qui étouffe la végétation locale.\\n\\nAujourd'hui en parallèle de mon salariat (60%) je me laisse 1 ou 2 ans pour valider la rentabilité de cette activité à 100%. Le but étant de rester petit et de gagner juste ce qu'il faut pour ne pas trop consommer ;-).\\n\\nLes pailles PAÏ régénératives?\\nUne alternative 100% naturelle et locale pour remplacer toutes les pailles industrielle ou asiatique :\\n- l'acier est certes très durable, mais aussi bien plus polluant que le plastique lors de sa production.\\n- le verre est aussi gourmand en énergie et CO2.\\n- le carton nécessite de nombreuses transformations énergivores.\\n- Le bambou venu d'Asie a fait un long voyage et a probablement été produit de manière industrielle...\\nLes pailles en bambous sont des produits réutilisables !\\nJ'épure à petit niveau cette espèce invasive pour en faire des produits complétement biodégradable en réduisant au minimum l'impact de la fabrication (artisanale).\\n\\nhttps://les-pailles.com/\", 'matières_entrantes': 'Du Bambou : PSEUDOSASA JAPONICA (grande feuilles vertes foncé plutôt en haut)', 'domaine_activite': 'Alimentation,Biens de consommation,Déchets', 'coproduits': 'Feuille et tige trop fine ou trop grosse de Bambou PSEUDOSASA JAPONICA', 'ODD': ['3-Bonne santé et bien-être', '11-Villes et communautés durable', '12-Consommation et production responsables', '15-Vie terrestre'], 'besoin_actuel': 'Gérer les réseaux sociaux et promouvoir mes produits sont mes principaux besoins.'}, 'EKOBESTA': {'code_postal': 64600, 'description': \"EKOBESTA accompagne les professionnels comme les entreprises ou collectivités dans l'organisation d'événements écoresponsables (séminaires, team-building, inaugurations, événements grand public, etc...). Pour ce faire, EKOBESTA a recensé les prestataires locaux de l'événementiel ayant une démarche écoresponsable afin de créer un réseau de partenaires en adéquation avec le projet ceci dans le but d'optimiser la gestion des événements d'un point de vue écoresponsable. En effet, trop peu d'acteurs actuels de l'événementiel font l'effort d'écoconcevoir les événements alors que certaines actions sont relativement faciles à mettre en œuvre (bacs de tri / compostage lors des événements, recyclage du mobilier, traiteur bio et local, voire végétarien, éco-lieu de réception, optimisation des transports, favorisation du circuit court, etc...). L'autre objectif du projet est de sensibiliser le public participant aux événements sur le respect de l'environnement et le développement durable en proposant des ateliers participatifs et écoresponsables en collaboration avec des associations environnementales locales (0 déchets, ramassage déchets, antigaspi, permaculture, compostage, confection produits cosmétiques / entretien / vêtements, etc.…). Afin de minimiser l'impact écologique de chaque événement, EKOBESTA établit en phase projet un premier bilan carbone. Ce bilan carbone servira de guide tout au long des différentes phases de l'événement et évoluera en fonction des décisions et actions mises en œuvre. Un bilan carbone définitif sera remis après l'événement et des solutions de compensation seront proposées au client afin de rendre l'événement totalement neutre. Ces solutions de compensation seront à mettre en place avec les associations environnementales locales (don de temps bénévole, participation ateliers, ramassage, don financier, etc...).\", 'matières_entrantes': None, 'domaine_activite': 'Autre', 'coproduits': 'Déchets organiques, alimentaires et huiles (traiteur)\\nCartons \\nPlastique\\nVerre (brasseur)\\nMobilier (stands)', 'ODD': ['13-Mesures relatives à la lutte contre les changements climatiques', '17-Partenariats pour la réalisation des objectifs', '15-Vie terrestre', '14-Vie aquatique', '12-Consommation et production responsables', '11-Villes et communautés durable', \"7-Energie propre et d'un coût abordable\", '6-Eau propre et assainissement', '4-Education de qualité', '3-Bonne santé et bien-être'], 'besoin_actuel': \"Aide à l'animation des réseaux sociaux,\\nAide à l'établissement des conditions générales de vente sur site internet et contrats,\\nAide à l'établissement des RGPD / mentions légales sur site internet, \\nAide au référencement google,\\nFormation ou partenariat dans l'établissement des bilans carbone \\nAide à la recherche / rencontre d'autres prestataires de l'événementiel qui ont une démarche écoresponsable (éco-lieux, traiteurs, location de mobilier / chapiteaux, DJ/sono, décoration, fleuristes, ateliers et animations, etc...)\\nFormation ou aide à la prospection\\nNotoriété pour permettre le développement de la clientèle\"}, 'TTIKI HERRIA': {'code_postal': 64600, 'description': \"Élargir l'offre de logement en créant de nouveaux logements dits réversibles où alternatifs ayant un impact environmental et social positif ( non artificialisation des sols pour jeunes actifs et désireux de vivre la transition écologique et sociale.\\n\\nVous trouverez en pièce le premier PDF, qui à l'heure d'aujourd'hui est en cours d'amélioration.\", 'matières_entrantes': ' Matériaux de construction éco-friendly ( bois, ouate de cellulose, paille...)', 'domaine_activite': 'Bâtiment', 'coproduits': None, 'ODD': ['11-Villes et communautés durable', '12-Consommation et production responsables', '13-Mesures relatives à la lutte contre les changements climatiques'], 'besoin_actuel': None}, 'Jardin-forêt école et comestible': {'code_postal': 64700, 'description': 'Ce projet porté par un collectif d\\'habitants des communes de Hendaye, Urrugne et Biriatou souhaite créer un \"jardin forêt école et comestible\" afin de répondre à plusieurs besoins:\\n-favoriser la résilience alimentaire du territoire (préserver des terres agricoles et soutenir la profession d\\'agroforestier)\\n-faire la promotion d\\'un modèle agricole productif, varié et respectueux de l\\'environnement (favorisant la biodiversité et luttant contre le réchauffement climatique tout en étant capable de s\\'y adapter)\\n-éduquer les jeunes générations à une alimentation saine/nutritive et locale\\n', 'matières_entrantes': None, 'domaine_activite': 'Alimentation,Education', 'coproduits': None, 'ODD': ['2-Zéro faim', '3-Bonne santé et bien-être', '4-Education de qualité', '12-Consommation et production responsables', '11-Villes et communautés durable'], 'besoin_actuel': 'Communication, marketing, financement'}, 'Les Mains Dans La Terre': {'code_postal': 64500, 'description': 'Remettre les mains dans la terre!', 'matières_entrantes': None, 'domaine_activite': 'Alimentation', 'coproduits': None, 'ODD': None, 'besoin_actuel': None}, \"Le Recup'Truck 64\": {'code_postal': 64240, 'description': 'Donner une seconde vie à des produits alimentaires dans une logique anti-gaspi.', 'matières_entrantes': None, 'domaine_activite': 'Alimentation,Déchets,Education', 'coproduits': None, 'ODD': None, 'besoin_actuel': None}, 'ZIRKO ETXEA': {'code_postal': 64122, 'description': 'Installer une structure légère mais performante au niveau énergétique pour accueillir une école de cirque contemporain', 'matières_entrantes': 'Bois pour une plateforme de 560-650 m2', 'domaine_activite': 'Autre,Education,Alimentation', 'coproduits': \"en cours d'étude\", 'ODD': ['3-Bonne santé et bien-être', '4-Education de qualité', '10-Inégalités réduites', '11-Villes et communautés durable', '12-Consommation et production responsables', '13-Mesures relatives à la lutte contre les changements climatiques', '8-Travail décent et croissance économique'], 'besoin_actuel': \"- Contrôler le business plan\\n- séquencer les prochaines étapes du projet\\n- organiser la récupération et le stockage de planches de bois pour fabriquer la plateforme et son isolation avec le concours d'artisans locaux. \\n- organiser la récupération et le stockage de fenêtres, \\n- faire une étude des sols\\n- trouver des solutions low impact pour l'aération de la salle sphérique de 560m2 (puits canadien ?) pour un volume de 5160m3 env. \\n- conseil sur les conventions d'occupation de foncier communal pour une association avec activité commerciale\\n\"}, 'Café Klima': {'code_postal': 64200, 'description': \"Comme plus de 50% des Français, nous sommes eco-anxieuses. Nous sommes inquiètes pour l'avenir du vivant. Cette prise de conscience quant à l'état du monde peut s'accompagner d'émotions difficiles, quand nous sommes en décalage par rapport à notre entourage. \\nDepuis que nous avons trouvé des espaces où partager notre inquiétude, nous avons, Fanny et Lina, appris à vivre avec et à la transformer en moteur pour passer à l'action. \\nNous avons voulu créer à notre tour un espace de partage et d'écoute, les Café Klima : des rencontres mensuelles locales au Pays Basque pour partager son ressenti quant à l'état du monde et imaginer ensemble des solutions individuelles et collectives pour créer le monde de demain. \", 'matières_entrantes': 'Aucune à ce stade. ', 'domaine_activite': 'Education,Autre', 'coproduits': 'Aucune à ce stade. ', 'ODD': ['3-Bonne santé et bien-être', '4-Education de qualité', '13-Mesures relatives à la lutte contre les changements climatiques'], 'besoin_actuel': 'Penser un business model pour proposer des café klima au sein des entreprises ; diffuser dans les réseaux de chacun '}, 'Bobasq': {'code_postal': 64600, 'description': 'confection et vente de bobs réversibles à partir de tissu sourcé à 50% minimum de tissu recyclé', 'matières_entrantes': 'tissus', 'domaine_activite': 'Biens de consommation', 'coproduits': 'chute de tissu', 'ODD': ['8-Travail décent et croissance économique', '12-Consommation et production responsables', '13-Mesures relatives à la lutte contre les changements climatiques'], 'besoin_actuel': 'trouver du tissu\\npatronage des bobs\\nfinalisation du logo\\nconstruction site web\\nstratégie commerciale'}, 'MaDinKuTX': {'code_postal': 64500, 'description': \"Mon projet s'articule autour d'une épicerie ambulante alternative pour proposer une autre façon de consommer avec un autre format\\n: consommer local engagé sur le concept de la KuTX (boite pour mettre en commun le savoir faire local à destination de la convivialité du plus grand nombre)\\nHBN souhaite remettre la nature dans le cœur des hommes et l'homme au cœur de la nature...\\nMaDinKuTX souhaite montrer l'exemple en proposant tout le nécessaire du quotidien  produit sainement uniquement autour de soi en commercialisant le savoir-faire local et en collectant les déchets localement pour optimiser les déplacement (en vue d'annuler mon impact personnel) et multiplier au quotidien les actions en faveur d'une transition écologique bonne pour l'avenir des zumains sur la planète Terre.\\nPlusieurs axes de distribution et de collecte : les marchés et espaces événementiels, les emplacements stratégiques, les lieux sédentaires prédéterminés en partenariats, le site internet de vente en ligne précommandes et organisation des tournées de dépôt et collecte, et un réseau de conciergerie d'entreprise\\nJe proposerai des animations sur mon stand avec l'intervention de qui voudra partager son enthousiasme faire connaitre son idée transmettre ses compétences \", 'matières_entrantes': \"J'ai besoin de fruits et légumes, de viandes et poissons, de fromages et autres produits laitiers, de pains et viennoiserie, de denrées sèches, boissons et autres aliments.\\nJ'ai besoin d'artisanat local éco-responsable.\\nJ'ai besoin d'un camion si possible électrique et/ou en partage avec un aménagement adapté à mon activité.\\nJ'ai besoin d'une vitrine réfrigérée.\\nJ'ai besoin d'une caisse enregistreuse, table de marché, parasol, piods, balance...\\nJ'ai besoin d'un site internet.\\nj'ai besoin de finaliser mon prévisionnel.\\nJ'ai besoin d'un financement en plateforme participative et en investisseurs.\", 'domaine_activite': 'Alimentation,Biens de consommation,Déchets', 'coproduits': \"Adapté à mon activité en tant que lieu de collecte de déchets recyclables je serai source de :\\nmarc de café, liège, bouchons plastiques, petits électroménagers HS, piles, ampoules, boutons, fermetures éclairs, tissus, boites d'œufs, cartonnages...\\nPlus éventuellement mais je souhaite que mes invendus alimentaires soit upcyclés sous forme de repas à redistribuer gratuitement ou en seconde main comme les togoodtogo ou comme déchets si dlc dépassées.\\nEt aussi, ce qui n'est pas concret mais qui va générer du lien et du service : beaucoup de recommandations, d'écoute, de partage, de la bienveillance et des ateliers...\", 'ODD': ['3-Bonne santé et bien-être', '4-Education de qualité', '8-Travail décent et croissance économique', '11-Villes et communautés durable', '12-Consommation et production responsables', '17-Partenariats pour la réalisation des objectifs'], 'besoin_actuel': None}, 'JuWIN': {'code_postal': 64260, 'description': 'Développement d\\'un nouveau type de mobilier urbain \"éco-responsable\" dans la maîtrise de l\\'accès à l\\'Eau potable', 'matières_entrantes': \"De l'eau et un peu d'électricité\", 'domaine_activite': 'Education,Autre', 'coproduits': None, 'ODD': ['12-Consommation et production responsables', '11-Villes et communautés durable', '3-Bonne santé et bien-être'], 'besoin_actuel': 'Réfléchir au mode de diffusion de cette innovation frugale où \"Avec MOINS, on fait MIEUX\" dans le partage des valeurs qui anime le projet, basé sur la notion de \"consommation au juste besoin\", et du colibri où chacun doit faire sa part pour mieux partager les ressources et vivre ensemble demain.'}, 'PURENAT': {'code_postal': 64600, 'description': \"PureNat est une startup industrielle labelisée deeptech : notre mission est de préserver la santé et le bien-être des populations en innovant pour dépolluer nos environnements, avec engagement et responsabilité.\\nNous développons le premier filtre actif du marché, écoresponsable et intégrable aux installations de nos environnements, capable de détruire durablement les polluants dans l’air que nous respirons.\\nIl est conçu à partir d’un tout nouveau matériau biomimétique purifiant inventé et breveté par la fondatrice, docteure en chimie des matériaux, travaillant depuis plus de 10 ans sur la qualité de l’air. Ingénieure en biotechnologies ayant élaboré pendant 10 ans des stratégies marketing dans l’industrie de l’hygiène, son associée développe une stratégie inscrite dans une démarche développement durable pour répondre à un besoin grandissant des populations, impulsé par la crise COVID, en quête de solutions pour dépolluer l’air. Energivores et peu écologiques, les solutions actuelles déçoivent par leur encombrement et une efficacité critiquée. Le marché est mondial et représentera plus de 21 Mrds$ en 2024. Nous adoptons une stratégie de marque ingrédient (B2B2B) s’adressant aux fabricants d'objets de décoration, ou d'ameublement comme notre partenaire ACLOUD (ex : correcteurs acoustiques, luminaires, …) ainsi que les fabricants de purificateurs d'air ou de centrales à traitement d’air tel que notre partenaire NAOLYZ, à qui nous proposons de codévelopper des produits nouvelle génération intégrant la technologie PureNat. D’autres secteurs s’intéressent également déjà à notre technologies : l’aérospatial (LIEBHERR-AEROSPACE et AIRBUS), le secteur BTP (Groupe SERFIM / SERPOL, REVET TP), les secteurs du confort thermique dans les bâtiments (Groupe ATLANTIC) et du traitement de l’air (JVD, VMI, API, ELLONA), le secteur de l’aménagement des espaces de travail (STEELCASE), le secteur de l’électroménager pour le particulier (SEB), le secteur automobile (FIAT CHRYSLER AUTOMOBILES), le secteur de l’énergie (GRDF, DALKIA, TOTAL ENERGIES), la protection individuelle (GENTEX CORPORATION). Nous sommes sur le point d’installer nos premiers prototypes de démonstration pour purifier l’air d’une clinique et d’une crèche, et nous lancerons la fabrication de notre première mini-série d'ici fin 2023 pour des commercialisations prévues en 2024. Une levée de fonds viens d’être bouclée pour accompagner l’industrialisation et la commercialisation, structurer les équipes et poursuivre la R&D.\\n\", 'matières_entrantes': None, 'domaine_activite': 'Bâtiment,Energie,Autre', 'coproduits': None, 'ODD': ['3-Bonne santé et bien-être', '12-Consommation et production responsables', '9-Industrie', ' innovation et infrastructure'], 'besoin_actuel': None}, 'Sagesse Sauvage': {'code_postal': 64100, 'description': 'Remettre l’essentiel au centre de votre Vie. S’offrir une bulle précieuse en Nature dans nos quotidiens surchargés.\\nCe sont les Séjours Sagesse Sauvage.\\nUn temps pour retrouver sérénité et puissance personnelle, et redevenir acteur de futurs souhaitables.\\n\\nNos séjours sont pensés au rythme de la Nature et du Vivant. Ils sont le reflet de nos valeurs et de nos engagements en conscience pour réconcilier l’Homme et la Nature.\\n\\nNotre accompagnement allie coaching multidimensionnel et animations transformatrices.\\nLes lieux et transports sont choisis selon leur âme et leur engagement écologique. L’alimentation est locale et permacole. Les groupes sont de petite taille, pour une intimité créative.\\nPar l’éco-psychologie et l’éco-spiritualité, les séjours Sagesse Sauvage vous détachent de l’anxiété et des consommations pour renouer le lien à la Nature et au temps long, redevenant acteur de nos transotions.\\n\\nCo-porteur de projet : Fabien Epifanoff', 'matières_entrantes': None, 'domaine_activite': 'Autre,Education', 'coproduits': None, 'ODD': ['4-Education de qualité', '5-Egalité entre les sexes', '11-Villes et communautés durable', '12-Consommation et production responsables', '13-Mesures relatives à la lutte contre les changements climatiques', '16-Paix', ' justice et institutions efficaces', '17-Partenariats pour la réalisation des objectifs'], 'besoin_actuel': \"Nous avons déjà organisé trois séjours en 2021/2022. Trois autres séjours sont programmés en 2023.\\nNous avons besoin de soutien pour faire connaître nos prochains séjours et permettre à plus de personnes d'y participer.\"}, 'InOff Plastic': {'code_postal': 64100, 'description': \"InOff Plastic a l'ambition d'accélérer la transition vers un monde sans déchets plastiques. Nous accompagnons les groupes de l'agroalimentaire, de la grande distribution, de l'hôtellerie et de la cosmétique à mettre en place des modèles de distribution plus durables et circulaires, basés sur des emballages réutilisables ou des emballages alternatifs au plastique à usage unique.\", 'matières_entrantes': 'NA', 'domaine_activite': 'Déchets', 'coproduits': 'NA', 'ODD': ['12-Consommation et production responsables', '15-Vie terrestre', '14-Vie aquatique', '11-Villes et communautés durable', '3-Bonne santé et bien-être', '4-Education de qualité'], 'besoin_actuel': \"Chez InOff Plastic, nous aimerions soutenir davantage les entreprises du pays basque dans leur transition zéro plastique. Si vous connaissez des acteurs du territoire qui utilisent du plastique à usage unique ou des bouteilles en verre perdu dans leurs chaîne de distribution et seraient intéressés par repenser leur modèle de distribution, n'hésitez pas à nous en parler ! Nous sommes toujours à la recherche de plus de visibilité, et de soutien sur notre communication.\"}, 'Hegomendy': {'code_postal': 64330, 'description': 'Produire des semences biologiques, reproduire des varités anciennes et non F1 (reproductibles) pour permettre à chacune et chacun de se nourrir sainement', 'matières_entrantes': None, 'domaine_activite': 'Alimentation', 'coproduits': None, 'ODD': None, 'besoin_actuel': None}, 'Ekohameau': {'code_postal': 64200, 'description': \"Éco-lieu d'hébergement en habitat réversible et d'expérimentation en sobriété, santé et bien-être.\\n\\nPour \\n- répondre au besoin de logement avec le confort moderne et à moindre impact sur les sols et les milieux naturels\\n- proposer des services et infrastructures communes de qualité à moindre coût\\n- créer du lien social, et sensibiliser à la fragilité des espaces naturels\\n- promouvoir des alternatives énergétiques et alimentaires, attirer ses expert.e.s sur le territoire\\n- promouvoir des bonnes pratiques écologiques et de santé, et devenir précurseur de la transition écologique.\\n\\nwww.ekohameau.fr\\n(en construction)\", 'matières_entrantes': None, 'domaine_activite': 'Bâtiment,Education,Autre', 'coproduits': None, 'ODD': ['3-Bonne santé et bien-être', '11-Villes et communautés durable', '12-Consommation et production responsables', '13-Mesures relatives à la lutte contre les changements climatiques', \"7-Energie propre et d'un coût abordable\", '2-Zéro faim', '10-Inégalités réduites'], 'besoin_actuel': 'Je recherche des associé.e.s avec des compétences en tourisme durable & animation de communauté / aménagement de territoire & ingénierie low-tech, ainsi que des communes sensibles à ce type de projet sur le rétro-littoral basque. '}, 'K-Caravane': {'code_postal': 64600, 'description': \"Réduire la consommation d'eau et la pollution des rivières. Valoriser les déchets en fertilisant et énergie.\", 'matières_entrantes': None, 'domaine_activite': 'Déchets,Energie', 'coproduits': None, 'ODD': None, 'besoin_actuel': None}, 'Ecolieu de moulin vert': {'code_postal': 40350, 'description': 'Le moulin s\\'est arrêté il y a 60 ans, parfaitement conservé, il mérite toute notre attention pour que :\\n1- on nettoie son canal amont et son canal aval, pour le refaire tourner, avec des visites du patrimoine local ( journées portes ouvertes, et un jour les scolaires )\\n2 - on obtient les autorisations administratives et un soutien financier pour reconstruire le seuil (barrage) cassé pour retrouver la puissance originelle du moulin, tout en préservant la biodiversité des lieux et limitant les risques d’inondations.\\n3 - on finance deux micro turbines hydroélectriques avec leurs automatismes, la distribution de cette électricité verte au village\\n4 - on stocke idéalement le surplus énergétique nocturne dans la production d\\'hydrogène vert utilisable localement (bus, tracteurs...)\\n\\nToutes ces étapes s\\'accompagnent de la création d\\'emplois locaux tq meunier / boulanger , technicien d\\'entretien de la centrale électrique et à hydrogène ,  débouché de blés cultivés en bio... et évidemment des emplois temporaires de rénovation - modernisation du moulin.\\n\\nNous avons un site instagram et FB : \"Ecolieu du moulin vert\" sur lequel nous publions régulièrement nos avancées en terme de travaux de rénovations et permaculture...\\n\\nXavier et Andréa', 'matières_entrantes': 'Retrouver l\\'eau de notre rivière le \"Grand Arrigan\"\\n(nous avons le \"droit de l\\'eau en titre\" car le moulin existait en 1703', 'domaine_activite': 'Energie,Education,Alimentation,Transport', 'coproduits': 'aucun', 'ODD': [\"7-Energie propre et d'un coût abordable\", '11-Villes et communautés durable', '13-Mesures relatives à la lutte contre les changements climatiques', '14-Vie aquatique'], 'besoin_actuel': 'oui , monter tout le projet....'}, 'Recyclerie pro espace social et culturel': {'code_postal': 64250, 'description': \"Mon projet est de rassembler ceux qui souhaite agir sur la consommation et ses conséquences, afin de sauvegarder les ressources et diminuer les déchets. Le projet est de réemployer les objets des entreprises, destiné à être jetés après amortissement comptable, en leur donnant une deuxième vie.\\nLe projet est de répondre au besoin sociale d'augmenter le pouvoir d'achat par l'offre d'objets à bas prix. Il est de créer une structure de l'économie sociale et solidaire, d'économie circulaire innovante et pourvoyeuse d'emplois et de valeurs.\\n\", 'matières_entrantes': None, 'domaine_activite': 'Biens de consommation', 'coproduits': 'Tissus, ferraille, bois ', 'ODD': ['1-Pas de pauvreté', '12-Consommation et production responsables', '13-Mesures relatives à la lutte contre les changements climatiques', '17-Partenariats pour la réalisation des objectifs'], 'besoin_actuel': 'Pitch, dossie de présentation de projet, budget prévisionnel et sa présentation...'}, 'Les petits bouts de terre': {'code_postal': 64200, 'description': '\"Les petits bouts de terre\" est un projet proposant de protéger et mettre en réseau à l\\'échelle de micro-quartiers tous ces petits de nature en ville, ces m2 en apparence sans grande valeur, qui sont menacés par une artificialisation banalisée de nos espaces de vie (dans la rue comme dans nos lieux d\\'habitation ou de travail). Le projet propose des prestations de service pour régénérer et cultiver ces fragments de sols encore existants chez nous ! Et en faire les stars de nos quartiers !', 'matières_entrantes': None, 'domaine_activite': 'Alimentation,Autre', 'coproduits': None, 'ODD': ['1-Pas de pauvreté', '2-Zéro faim', '3-Bonne santé et bien-être', '4-Education de qualité', '5-Egalité entre les sexes', '6-Eau propre et assainissement', \"7-Energie propre et d'un coût abordable\", '8-Travail décent et croissance économique', '11-Villes et communautés durable', '10-Inégalités réduites', '9-Industrie', ' innovation et infrastructure', '12-Consommation et production responsables', '13-Mesures relatives à la lutte contre les changements climatiques', '15-Vie terrestre', '17-Partenariats pour la réalisation des objectifs'], 'besoin_actuel': None}, 'TransAction': {'code_postal': 64122, 'description': 'Imaginée au tout début du confinement COVID, cette plateforme a participé activement et gratuitement à ce que les producteurs, restaurateurs et commerçants circuits courts puissent vendre leur marchandise et à ce que les consommateurs trouvent de quoi se nourrir près de chez eux', 'matières_entrantes': None, 'domaine_activite': 'Alimentation', 'coproduits': None, 'ODD': None, 'besoin_actuel': None}, 'Collecte & Compost': {'code_postal': 64500, 'description': \"Valoriser des déchets en matière organique profitable à l'environnement\", 'matières_entrantes': None, 'domaine_activite': 'Alimentation,Déchets', 'coproduits': None, 'ODD': None, 'besoin_actuel': None}, \"L'Echappée Verte\": {'code_postal': 64100, 'description': \"L'Echappée Verte est née de la rencontre d’Arnaud Sergeant, diplômé en Aménagement du Paysage et en Permaculture, et Sébastien Cau, diplômé en Permaculture, Maître Composteur, formé en arboriculture au Conservatoire Végétal d'Aquitaine, et à différentes approches d'agriculture de régénération (Hervé Coves, Gerard Ducerf, Stefan Sobkoviak, Konrad Schrieber, ...).\\n\\nTous deux passionnés par les conceptions intégrant harmonieusement toutes les formes du vivant dans une approche globale des systèmes, ils vous accompagneront, selon vos besoins, sur certaines phases de conception ou la réalisation complète de votre projet :\\n\\nL'analyse méthodologique et structurante du projet global (humain, terrain, vie et fertilité du sol, biodiversité, ressources, limites, ...), les stratégies d'optimisation énergétique et d'agradation des écosystèmes, le dessin des plans d'aménagement paysagers-nourriciers et/ou agroforestiers adaptés, l'encadrement de journées participatives, ou la réalisation.\\n\\nL’Echappée Verte exerce auprès des particuliers, institutions, entreprises et associations, sont partenaires de l'association La Forêt Nourricière pour le sud-ouest de la France et membre de plusieurs réseaux et collectifs liés à l'environnement, l'agriculture et l'humain .\", 'matières_entrantes': \"Arbres, arbustes, et plantes d'une manière générale.\\nBroyat, BRF, Paille, et tout autre ressource végétale ou fermentescible.\\nPour les terrains / écoles sur lesquels nous intervenons bénévolement, nous récupérons également tout ce qui peut servir dans un jardin : outils, ardoises, tuiles, planches, baches, récupérateurs d'eau, tuyaux, serres, etc...\", 'domaine_activite': 'Alimentation,Déchets,Education', 'coproduits': 'Connaissances transmissibles, plantes et ressources vertes', 'ODD': ['2-Zéro faim', '3-Bonne santé et bien-être', '6-Eau propre et assainissement', '8-Travail décent et croissance économique', '11-Villes et communautés durable', '12-Consommation et production responsables', '13-Mesures relatives à la lutte contre les changements climatiques', '14-Vie aquatique', '15-Vie terrestre', '17-Partenariats pour la réalisation des objectifs'], 'besoin_actuel': None}, 'NINI GARBI': {'code_postal': 64600, 'description': 'Service de location et location avec option nettoyage de couches lavables\\nVente de produits artisanaux locaux pour une famille écolo ', 'matières_entrantes': 'Couches lavables \\nProduits artisanaux ', 'domaine_activite': 'Déchets,Biens de consommation', 'coproduits': \"Cartons d'emballage \", 'ODD': ['3-Bonne santé et bien-être', '12-Consommation et production responsables', '13-Mesures relatives à la lutte contre les changements climatiques'], 'besoin_actuel': None}, 'Homerun Company': {'code_postal': 64100, 'description': 'Homerun Company conçoit des solutions de mobilité durables. Deux aspects du projet sont novateurs, la formation de mécaniciens polyvalents cycle, qui puissent à la fois monter des vélos et participer à une filière de reconditionnement et recyclage de ces vélos électriques.', 'matières_entrantes': None, 'domaine_activite': 'Transport,Déchets', 'coproduits': None, 'ODD': ['9-Industrie', ' innovation et infrastructure', '12-Consommation et production responsables'], 'besoin_actuel': None}, 'Gaur gerokoa - Demain commence maintenant': {'code_postal': 64122, 'description': 'À travers ce documentaire réalisé sur le territoire basque (Nord et Sud), le souhait des trois auteurs est de montrer que des initiatives locales écologiques ou sociétales, ayant fait leurs preuves, existent sur le territoire mais souvent méconnues.\\n \\nTrop souvent, lorsque les documentaires abordent les solutions aux problèmes actuels de nos sociétés, ils vont chercher à l’autre bout du monde des personnes ou projets. Or, les conditions et contextes à ces projets sont souvent trop éloignés de nos situations locales.\\n \\nLe territoire basque, de par son histoire, sa culture et sa richesse a vu essaimer des initiatives novatrices ayant fait leurs preuves : monnaies locales, association de défense du logement, épiceries collaboratives, agricultures respectueuses de l’environnement, mouvement de protection de l’environnement, monnaie locale etc…\\n \\nOutre l’intention de mettre en lumière ces projets ayant fait leurs preuves, la volonté des auteurs est également de montrer les synergies pouvant exister entre elles. Voir de quelle manière ce terreau est propice à l’émergence de nouvelles initiatives mais aussi à une certaine collaboration entre elles.\\n \\nCependant, cette volonté est aussi synonyme d’exigence et les auteurs font le choix de ne pas cacher les difficultés, voire les échecs, de ces initiatives. \\nAinsi, c’est un regard bienveillant mais objectif qui sera porté sur les portraits qui seront réalisés.\\n \\nLa volonté générale, reste cependant d’être bienveillant et d’amener tout un chacun à s’engager, soutenir ou s’associer à ces initiatives s’ils croient en elle. Ou bien encore, à créer la leur, en ayant conscience des potentiels obstacles et des vertus pour le territoire.\\n \\nPourquoi ? Parce que demain est déjà là.\\n', 'matières_entrantes': None, 'domaine_activite': 'Alimentation,Bâtiment,Biens de consommation,Déchets,Education,Energie,Transport,Autre', 'coproduits': None, 'ODD': ['17-Partenariats pour la réalisation des objectifs', '15-Vie terrestre', '14-Vie aquatique', '16-Paix', ' justice et institutions efficaces', '12-Consommation et production responsables', '13-Mesures relatives à la lutte contre les changements climatiques', '11-Villes et communautés durable', '10-Inégalités réduites', '9-Industrie', ' innovation et infrastructure', '8-Travail décent et croissance économique', \"7-Energie propre et d'un coût abordable\", '6-Eau propre et assainissement', '5-Egalité entre les sexes', '4-Education de qualité', '3-Bonne santé et bien-être', '2-Zéro faim', '1-Pas de pauvreté'], 'besoin_actuel': 'Faire connaitre le projet, faire circuler les enquêtes que nous diffuserons pour réaliser le film le plus sincère et révélateurs des talents à impacts'}, 'ECOPOLIS': {'code_postal': 64480, 'description': \"ECOPOLIS est un jeu de société familial qui vise à favoriser une éducation à la compréhension des enjeux du monde d'aujourd'hui.\\nEn plus de s’amuser ensemble, les joueurs développent la compréhension des impacts liés à nos choix, l’esprit coopératif, l’aptitude à déployer une stratégie efficace tant individuelle que collective. \\nObjectif ? Redistribuer les cartes et définir de nouvelles règles du jeu à l’échelle d’une partie comme de la planète !\", 'matières_entrantes': None, 'domaine_activite': 'Education,Biens de consommation', 'coproduits': \"Des cartons d'emballage éventuellement\\nDes palettes occasionnellement\", 'ODD': ['4-Education de qualité', '11-Villes et communautés durable', '17-Partenariats pour la réalisation des objectifs'], 'besoin_actuel': \"Le jeu venant d'être édité, je suis preneur de tout contact de personnes en lien avec des écoles, des médiathèques, des collèges, des lycées, des boutiques de jeux ou de produits éco-responsables et des journalistes bien entendu :)\\nUn.e community manageur éventuellement pour faire vivre les pages FB et Instagram dédiées.\\nLes outils de com sont réalisés (plaquette, site Web) et une agence de com a été mobilisée pour les fêtes de fin d'année\"}}"
      ],
      "metadata": {
        "id": "RFeoDEqWaJpF"
      },
      "execution_count": 4,
      "outputs": []
    },
    {
      "cell_type": "code",
      "execution_count": 5,
      "metadata": {
        "colab": {
          "base_uri": "https://localhost:8080/"
        },
        "id": "ar_sVzvnUybC",
        "outputId": "4f100e7c-4ad7-4f8b-ab18-157dcb0fac1e"
      },
      "outputs": [
        {
          "output_type": "stream",
          "name": "stdout",
          "text": [
            "64100\n"
          ]
        }
      ],
      "source": [
        "print(data_la_communaute[55]['code_postal'])\n"
      ]
    },
    {
      "cell_type": "markdown",
      "metadata": {
        "id": "D16mCePKUya2"
      },
      "source": [
        "# Calcul du score de force circulaire"
      ]
    },
    {
      "cell_type": "markdown",
      "source": [
        "## Librairies"
      ],
      "metadata": {
        "id": "BPyP4_ewU0h4"
      }
    },
    {
      "cell_type": "markdown",
      "source": [
        "### Installation librairies"
      ],
      "metadata": {
        "id": "4zHPjcV0CEH0"
      }
    },
    {
      "cell_type": "code",
      "source": [
        "pip install geopy"
      ],
      "metadata": {
        "colab": {
          "base_uri": "https://localhost:8080/"
        },
        "id": "1BKGPNqNU2XS",
        "outputId": "d8122ea5-bb01-449e-aeae-0d2b32a20543"
      },
      "execution_count": 1,
      "outputs": [
        {
          "output_type": "stream",
          "name": "stdout",
          "text": [
            "Requirement already satisfied: geopy in /usr/local/lib/python3.10/dist-packages (2.3.0)\n",
            "Requirement already satisfied: geographiclib<3,>=1.52 in /usr/local/lib/python3.10/dist-packages (from geopy) (2.0)\n"
          ]
        }
      ]
    },
    {
      "cell_type": "code",
      "source": [
        "pip install fasttext"
      ],
      "metadata": {
        "colab": {
          "base_uri": "https://localhost:8080/"
        },
        "id": "1wYdW4-tVB2b",
        "outputId": "8f519e4f-a583-45e1-8207-1847ed1125dc"
      },
      "execution_count": 93,
      "outputs": [
        {
          "output_type": "stream",
          "name": "stdout",
          "text": [
            "Requirement already satisfied: fasttext in /usr/local/lib/python3.10/dist-packages (0.9.2)\n",
            "Requirement already satisfied: pybind11>=2.2 in /usr/local/lib/python3.10/dist-packages (from fasttext) (2.11.1)\n",
            "Requirement already satisfied: setuptools>=0.7.0 in /usr/local/lib/python3.10/dist-packages (from fasttext) (67.7.2)\n",
            "Requirement already satisfied: numpy in /usr/local/lib/python3.10/dist-packages (from fasttext) (1.23.5)\n"
          ]
        }
      ]
    },
    {
      "cell_type": "markdown",
      "source": [
        "### Import des librairies"
      ],
      "metadata": {
        "id": "h3Zqqil6Ba1j"
      }
    },
    {
      "cell_type": "code",
      "source": [
        "import numpy as np\n",
        "import fasttext # NLP\n",
        "from geopy.geocoders import Nominatim # Distance entre deux code postaux\n",
        "from geopy.distance import geodesic # Distance entre deux code postaux"
      ],
      "metadata": {
        "id": "SOSXuVd0BeZj"
      },
      "execution_count": 6,
      "outputs": []
    },
    {
      "cell_type": "markdown",
      "metadata": {
        "id": "D9W3EjnYUybE"
      },
      "source": [
        "## Fonctions NLP"
      ]
    },
    {
      "cell_type": "code",
      "source": [
        "# Chargement du modèle pré-entraîné\n",
        "model_path = 'cc.fr.300.bin'\n",
        "model = fasttext.load_model(model_path)"
      ],
      "metadata": {
        "colab": {
          "base_uri": "https://localhost:8080/"
        },
        "id": "ediWx8EKn8FL",
        "outputId": "87555c1c-5aef-4068-db17-ff7171628794"
      },
      "execution_count": 7,
      "outputs": [
        {
          "output_type": "stream",
          "name": "stderr",
          "text": [
            "Warning : `load_model` does not return WordVectorModel or SupervisedModel any more, but a `FastText` object which is very similar.\n"
          ]
        }
      ]
    },
    {
      "cell_type": "code",
      "source": [
        "# Fonction pour obtenir le vecteur d'un texte\n",
        "def get_text_vector(text, model):\n",
        "    words = text.split()\n",
        "    # Calcul de la moyenne des vecteurs de mots\n",
        "    vector = sum(model.get_word_vector(word) for word in words) / len(words)\n",
        "    return vector\n",
        "\n",
        "# Fonction qui calcul la similarité sémentique entre deux texte. Renvoi une similarité entre 0 et 1.\n",
        "def similarity_score_texte(texte1, texte2) :\n",
        "  # Obtenez les vecteurs des deux textes\n",
        "  vector1 = get_text_vector(texte1, model)\n",
        "  vector2 = get_text_vector(texte2, model)\n",
        "\n",
        "  # Calcul du score de similarité cosinus entre les deux vecteurs\n",
        "  similarity_score = np.dot(vector1, vector2) / (np.linalg.norm(vector1) * np.linalg.norm(vector2))\n",
        "\n",
        "  return similarity_score\n"
      ],
      "metadata": {
        "id": "q3jCMtxsneXB"
      },
      "execution_count": 69,
      "outputs": []
    },
    {
      "cell_type": "markdown",
      "source": [
        "Tests"
      ],
      "metadata": {
        "id": "Joz6yDkUC_xD"
      }
    },
    {
      "cell_type": "code",
      "source": [
        "# Textes à comparer\n",
        "texte1 = \"Chocolat. Je recherche des associé.e.s avec des compétences en tourisme durable & animation de communauté / aménagement de territoire & ingénierie low-tech, ainsi que des communes sensibles à ce type de projet sur le rétro-littoral basque.\"\n",
        "texte2 = \"Aide aux chantiers participatifs,Appels à projets,Business plan,Animation d'ateliers (sensibilisation écologique),Developpement commercial,Etude de marché,Gestion de projet,Marketing,Mentor entrepreneurial,Mesure d'impact social et environnemental,Profilage clients - personnas,Recherche de financement,Recherche de partenariat, Bâtiment,Entrepreneuriat,Environnement/Ecologie, Evénementiel,Commercial,Entrepreneuriat, Commercial,Environnement/Ecologie, Ingénierie,Marketing,Entrepreneuriat, Juridique/Admin/Finance,Commercial, Entrepreneuriat\"\n",
        "\n",
        "print(similarity_score_texte(texte1, texte2))\n",
        "\n"
      ],
      "metadata": {
        "colab": {
          "base_uri": "https://localhost:8080/"
        },
        "id": "s_ZUBdD3of9T",
        "outputId": "caf12ad9-248d-45b9-a342-ab38c89629fb"
      },
      "execution_count": 70,
      "outputs": [
        {
          "output_type": "stream",
          "name": "stdout",
          "text": [
            "0.8818745\n"
          ]
        }
      ]
    },
    {
      "cell_type": "markdown",
      "source": [
        "## Fonctions calcul force par critère\n"
      ],
      "metadata": {
        "id": "sRcsy5XXy_vX"
      }
    },
    {
      "cell_type": "markdown",
      "metadata": {
        "id": "_yPkVjf8UybE"
      },
      "source": [
        "### Domaine d'application (OK)\n",
        "\n",
        "\n"
      ]
    },
    {
      "cell_type": "code",
      "execution_count": 86,
      "metadata": {
        "id": "lmEHz72iUybF"
      },
      "outputs": [],
      "source": [
        "\"\"\"Doc\n",
        "@param ID1 : Peut être un projet ou un PC\n",
        "@param ID_Projet : Id d'un projet\n",
        "@param relation : String \"PC\" \"P\" pour dire si ID1 est un Porteur de compétences ou un Projet.\n",
        "@return Note allant de 0 à 3 pts.\n",
        "\"\"\"\n",
        "def fc_domaine_application(ID1, ID_Projet, relation) :\n",
        "    try :\n",
        "      if relation == \"PC\" :\n",
        "          # Un Porteur de compétences n'a pas de \"ODD Fixé par l'ONU\" donc on ne peut le comparer avec un Projet.\n",
        "          note = 0\n",
        "\n",
        "      elif relation == \"P\" :\n",
        "          # On compte les mêmes occurences des \"ODD Fixé par l'ONU\" des deux projets.\n",
        "          occurence = 0\n",
        "\n",
        "          # On récupère les listes de mot de chaque projet\n",
        "          odd_projet1 = data_projet[ID1]['ODD']\n",
        "          odd_projet2 = data_projet[ID_Projet]['ODD']\n",
        "\n",
        "          if odd_projet1 != None and odd_projet2 != None :\n",
        "            # On parcourt nos listes de mots et compte les occurences\n",
        "            for odd_p1 in odd_projet1 :\n",
        "              for odd_p2 in odd_projet2 :\n",
        "                if odd_p1 == odd_p2 :\n",
        "                  occurence += 1\n",
        "\n",
        "          # On défini la note\n",
        "          if occurence >= 3 :\n",
        "              note = 3\n",
        "          elif occurence == 2 :\n",
        "              note = 2\n",
        "          elif occurence == 1 :\n",
        "              note = 1\n",
        "          else :\n",
        "              note = 0\n",
        "\n",
        "      return note\n",
        "    except Exception as e :\n",
        "      return f\"Une erreur s'est produite : {e}\""
      ]
    },
    {
      "cell_type": "markdown",
      "source": [
        "Test"
      ],
      "metadata": {
        "id": "eYdIAmZQDb56"
      }
    },
    {
      "cell_type": "code",
      "source": [
        "# Tests PC-> Projet\n",
        "print(fc_domaine_application(20, 'AIMA', 'PC'))\n",
        "\n",
        "# Test Projet -> Projet\n",
        "print(fc_domaine_application('ERRO ETXEA', 'EKOBESTA', 'P'))"
      ],
      "metadata": {
        "colab": {
          "base_uri": "https://localhost:8080/"
        },
        "id": "Xohu_CgApjWC",
        "outputId": "7008abb8-7ba2-4c12-94a6-b5fc43175a04"
      },
      "execution_count": 87,
      "outputs": [
        {
          "output_type": "stream",
          "name": "stdout",
          "text": [
            "0\n",
            "3\n"
          ]
        }
      ]
    },
    {
      "cell_type": "markdown",
      "metadata": {
        "id": "ND_SIm3AUybG"
      },
      "source": [
        "### Champ lexical NLP (OK)"
      ]
    },
    {
      "cell_type": "code",
      "execution_count": 71,
      "metadata": {
        "id": "nRElWdKaUybH"
      },
      "outputs": [],
      "source": [
        "\"\"\"Doc\n",
        "@param ID1 : Peut être un projet ou un PC\n",
        "@param ID_Projet : Id d'un projet\n",
        "@param relation : String \"PC\" \"P\" pour dire si ID1 est un Porteur de compétences ou un Projet.\n",
        "@return note normalisé entre 0 et 1.\n",
        "\"\"\"\n",
        "def fc_champ_lexical(ID1, ID_Projet, relation) :\n",
        "  try :\n",
        "    if relation == \"PC\" :\n",
        "        # On va analyser chaque famille de compétence du porteur de compétences avec chaque domaine d'activité du projet et garder la meilleure similarité.\n",
        "        PC_familles_de_competences = data_la_communaute[ID1]['familles_de_competence'] # Liste\n",
        "        Projet_domaine_activite = data_projet[ID_Projet]['domaine_activite'] # Char\n",
        "\n",
        "        similarity_score = 0\n",
        "        if PC_familles_de_competences != None :\n",
        "          for famille_de_competence in PC_familles_de_competences :\n",
        "            if Projet_domaine_activite != None :\n",
        "              actual_similarity_score = similarity_score_texte(famille_de_competence, Projet_domaine_activite)\n",
        "              if actual_similarity_score > similarity_score :\n",
        "                similarity_score = actual_similarity_score\n",
        "\n",
        "    elif relation == \"P\" :\n",
        "        # On compare les description de projets\n",
        "\n",
        "        # On récupère nos données\n",
        "        Projet1_description = data_projet[ID1]['description'] # Char\n",
        "        Projet2_description = data_projet[ID_Projet]['description'] # Char\n",
        "\n",
        "        similarity_score = 0\n",
        "\n",
        "        if Projet1_description != None and Projet2_description != None :\n",
        "          similarity_score = similarity_score_texte(Projet1_description, Projet2_description)\n",
        "\n",
        "    return similarity_score\n",
        "  except Exception as e :\n",
        "    return f\"Une erreur s'est produite : {e}\""
      ]
    },
    {
      "cell_type": "code",
      "source": [
        "# Tests PC-> Projet\n",
        "print(fc_champ_lexical(13, 'Ecolieu de moulin vert', 'PC'))\n",
        "\n",
        "\n",
        "# Test Projet <-> Projet\n",
        "print(fc_champ_lexical('ERRO ETXEA', 'Ekohameau', 'P'))\n",
        "print(fc_champ_lexical('Ekohameau', 'ERRO ETXEA', 'P'))"
      ],
      "metadata": {
        "colab": {
          "base_uri": "https://localhost:8080/"
        },
        "id": "dvYrMk02s0Oh",
        "outputId": "c955d386-2dc0-47e8-a00e-68d30500d5e9"
      },
      "execution_count": 88,
      "outputs": [
        {
          "output_type": "stream",
          "name": "stdout",
          "text": [
            "0.61647046\n",
            "0.9461272\n",
            "0.9461272\n"
          ]
        }
      ]
    },
    {
      "cell_type": "markdown",
      "metadata": {
        "id": "me5N0fiSUybJ"
      },
      "source": [
        "### Proximité géographique (OK)"
      ]
    },
    {
      "cell_type": "code",
      "execution_count": 81,
      "metadata": {
        "id": "IK0s81sDUybK"
      },
      "outputs": [],
      "source": [
        "\"\"\"Doc\n",
        "@param ZIP_CODE_1 : code postal\n",
        "@param ZIP_CODE_2 : code postal\n",
        "@return Note allant de 0 à 3 pts.\n",
        "\"\"\"\n",
        "def fc_proximite_geographique(ZIP_CODE_1, ZIP_CODE_2) :\n",
        "  try :\n",
        "    geolocator = Nominatim(user_agent=\"my_geocoder\")\n",
        "\n",
        "    location1 = geolocator.geocode(str(ZIP_CODE_1)+ \", France\")\n",
        "    location2 = geolocator.geocode(str(ZIP_CODE_2)+ \", France\")\n",
        "\n",
        "    distance = geodesic((location1.latitude, location1.longitude), (location2.latitude, location2.longitude)).km\n",
        "\n",
        "    if distance < 50 :\n",
        "        note = 3\n",
        "    elif distance < 100 :\n",
        "        note = 2\n",
        "    elif distance < 150 :\n",
        "        note = 1\n",
        "    else :\n",
        "        note = 0\n",
        "\n",
        "    return note\n",
        "\n",
        "  except Exception as e :\n",
        "    print(f\"Une erreur s'est produite : {e}\")\n",
        "    return 0"
      ]
    },
    {
      "cell_type": "code",
      "source": [
        "# Pour test\n",
        "fc_proximite_geographique(64000, 65000)"
      ],
      "metadata": {
        "colab": {
          "base_uri": "https://localhost:8080/"
        },
        "id": "TqK0z6uJVsU3",
        "outputId": "67895664-47c3-4fbc-9d19-4448ada278e2"
      },
      "execution_count": 85,
      "outputs": [
        {
          "output_type": "stream",
          "name": "stderr",
          "text": [
            "WARNING:urllib3.connectionpool:Retrying (Retry(total=1, connect=None, read=None, redirect=None, status=None)) after connection broken by 'ReadTimeoutError(\"HTTPSConnectionPool(host='nominatim.openstreetmap.org', port=443): Read timed out. (read timeout=1)\")': /search?q=a%2C+France&format=json&limit=1\n",
            "WARNING:urllib3.connectionpool:Retrying (Retry(total=0, connect=None, read=None, redirect=None, status=None)) after connection broken by 'ReadTimeoutError(\"HTTPSConnectionPool(host='nominatim.openstreetmap.org', port=443): Read timed out. (read timeout=1)\")': /search?q=a%2C+France&format=json&limit=1\n"
          ]
        },
        {
          "output_type": "stream",
          "name": "stdout",
          "text": [
            "Une erreur s'est produite : HTTPSConnectionPool(host='nominatim.openstreetmap.org', port=443): Max retries exceeded with url: /search?q=a%2C+France&format=json&limit=1 (Caused by ReadTimeoutError(\"HTTPSConnectionPool(host='nominatim.openstreetmap.org', port=443): Read timed out. (read timeout=1)\"))\n"
          ]
        },
        {
          "output_type": "execute_result",
          "data": {
            "text/plain": [
              "0"
            ]
          },
          "metadata": {},
          "execution_count": 85
        }
      ]
    },
    {
      "cell_type": "markdown",
      "metadata": {
        "id": "1kt_qkasUybK"
      },
      "source": [
        "### Flux de matières mis en œuvre NLP (OK)"
      ]
    },
    {
      "cell_type": "code",
      "execution_count": 53,
      "metadata": {
        "id": "P40GiFxTUybM"
      },
      "outputs": [],
      "source": [
        "\"\"\"Doc\n",
        "@param ID1 : Peut être un projet ou un PC\n",
        "@param ID_Projet : Id d'un projet\n",
        "@param relation : String \"PC\" \"P\" pour dire si ID1 est un Porteur de compétences ou un Projet.\n",
        "@return note normalisé entre 0 et 1.\n",
        "\"\"\"\n",
        "def fc_flux_matiere(ID1, ID_Projet, relation) :\n",
        "  try :\n",
        "    if relation == \"PC\" :\n",
        "      # On compare chaque matière que possède le Porteur de compétence et la matière entrante du projet (celle dont il a besoin).\n",
        "      # De plus on va comparer chaque matiere que possède le Porteur de compétence et les besoins du porteur de projet aucas où il n'aurait pas remplis la matière entrante.\n",
        "      # On prend le meilleur résultat.\n",
        "      PC_matieres = data_la_communaute[ID1]['matieres'] # Liste\n",
        "      Projet_matiere_entrante = data_projet[ID_Projet]['matières_entrantes'] # Char\n",
        "      Projet_besoins_actuels = data_projet[ID_Projet]['besoin_actuel'] # Char\n",
        "\n",
        "      similarity_score = 0\n",
        "\n",
        "      if PC_matieres != None :\n",
        "        for matiere in PC_matieres :\n",
        "          # Je regarde si le nouveau similarity_score > similarity_score et je le remplace si c'est le cas.\n",
        "          if Projet_matiere_entrante != None :\n",
        "            actual_similarity_score = similarity_score_texte(matiere, Projet_matiere_entrante)\n",
        "            if actual_similarity_score > similarity_score :\n",
        "              similarity_score = actual_similarity_score\n",
        "          # Je fais de même pour notre deuxième cas\n",
        "          if Projet_besoins_actuels != None :\n",
        "            actual_similarity_score = similarity_score_texte(matiere, Projet_besoins_actuels)\n",
        "            if actual_similarity_score > similarity_score :\n",
        "              similarity_score = actual_similarity_score\n",
        "\n",
        "    elif relation == \"P\" :\n",
        "      # 1. On compare si les matière entrante d'un projet correspondent aux matières sortante d'un autre et réciproquement.\n",
        "      # 2. On compare les besoins d'un projet et les matières sortante d'un autre et réciproquement\n",
        "      # On prend le maximum\n",
        "      Projet1_matiere_entrante = data_projet[ID1]['matières_entrantes'] # Char\n",
        "      Projet2_matiere_entrante = data_projet[ID_Projet]['matières_entrantes'] # Char\n",
        "\n",
        "      Projet1_matiere_sortante = data_projet[ID1]['coproduits'] # Char\n",
        "      Projet2_matiere_sortante = data_projet[ID_Projet]['coproduits'] # Char\n",
        "\n",
        "      Projet1_besoins_actuels = data_projet[ID1]['besoin_actuel'] # Char\n",
        "      Projet2_besoins_actuels = data_projet[ID_Projet]['besoin_actuel'] # Char\n",
        "\n",
        "      similarity_score = 0\n",
        "\n",
        "      # 1.\n",
        "      if Projet1_matiere_entrante != None and Projet2_matiere_sortante != None :\n",
        "        actual_similarity_score = similarity_score_texte(Projet1_matiere_entrante, Projet2_matiere_sortante)\n",
        "        if actual_similarity_score > similarity_score :\n",
        "          similarity_score = actual_similarity_score\n",
        "      if Projet2_matiere_entrante != None and Projet1_matiere_sortante != None :\n",
        "        actual_similarity_score = similarity_score_texte(Projet2_matiere_entrante, Projet1_matiere_sortante)\n",
        "        if actual_similarity_score > similarity_score :\n",
        "          similarity_score = actual_similarity_score\n",
        "\n",
        "      # 2.\n",
        "      if Projet1_besoins_actuels != None and Projet2_matiere_sortante != None :\n",
        "        actual_similarity_score = similarity_score_texte(Projet1_besoins_actuels, Projet2_matiere_sortante)\n",
        "        if actual_similarity_score > similarity_score :\n",
        "          similarity_score = actual_similarity_score\n",
        "      if Projet2_besoins_actuels != None and Projet1_matiere_sortante != None :\n",
        "        actual_similarity_score = similarity_score_texte(Projet2_besoins_actuels, Projet1_matiere_sortante)\n",
        "        if actual_similarity_score > similarity_score :\n",
        "          similarity_score = actual_similarity_score\n",
        "\n",
        "    return similarity_score\n",
        "  except Exception as e :\n",
        "    return f\"Une erreur s'est produite : {e}\""
      ]
    },
    {
      "cell_type": "code",
      "source": [
        "# Tests PC-> Projet\n",
        "print(fc_flux_matiere(39, \"Bobasq\", 'PC'))\n",
        "\n",
        "\n",
        "# Test Projet <-> Projet\n",
        "print(fc_flux_matiere('ERRO ETXEA', 'Ekohameau', 'P'))\n",
        "print(fc_flux_matiere('Ekohameau', 'ERRO ETXEA', 'P'))"
      ],
      "metadata": {
        "colab": {
          "base_uri": "https://localhost:8080/"
        },
        "id": "ZtgOd13Ee2k8",
        "outputId": "9c03cd6e-07e0-4ef6-e687-3db42a0c46d9"
      },
      "execution_count": 89,
      "outputs": [
        {
          "output_type": "stream",
          "name": "stdout",
          "text": [
            "0.6775104\n",
            "0.45403656\n",
            "0.45403656\n"
          ]
        }
      ]
    },
    {
      "cell_type": "markdown",
      "metadata": {
        "id": "zs2p77N_UybM"
      },
      "source": [
        "### Flux de compétences mis en œuvre NLP (OK)"
      ]
    },
    {
      "cell_type": "code",
      "execution_count": 104,
      "metadata": {
        "id": "VVktTPdhUybM"
      },
      "outputs": [],
      "source": [
        "\"\"\"Doc\n",
        "@param ID1 : Peut être un projet ou un PC\n",
        "@param ID_Projet : Id d'un projet\n",
        "@param relation : String \"PC\" \"P\" pour dire si ID1 est un Porteur de compétences ou un Projet.\n",
        "@return note normalisé entre 0 et 1.\n",
        "\"\"\"\n",
        "def fc_flux_competences(ID1, ID_Projet, relation) :\n",
        "  try :\n",
        "    if relation == \"PC\" :\n",
        "      # On compare chaque compétence en circularité avec les besoins actuels du projet et la description.\n",
        "      # Puis on compare chaque famille de compétence avec les besoins actuels du projet et la description.\n",
        "      # On compare quel role avec besoin actuel et description.\n",
        "      # On garde le meilleur.\n",
        "\n",
        "      PC_competences_circularite = data_la_communaute[ID1]['competences_en_circularite'] # Liste\n",
        "      PC_familles_competences = data_la_communaute[ID1]['familles_de_competence'] # Liste\n",
        "      PC_quel_role = data_la_communaute[ID1]['quel_role'] # Char\n",
        "      Projet_besoins_actuels = data_projet[ID_Projet]['besoin_actuel'] # Char\n",
        "      Projet_description = data_projet[ID_Projet]['description'] # Char\n",
        "\n",
        "\n",
        "      similarity_score = 0\n",
        "\n",
        "      if PC_competences_circularite != None :\n",
        "        for competence in PC_competences_circularite :\n",
        "          # Je regarde si le nouveau similarity_score > similarity_score et je le remplace si c'est le cas.\n",
        "          if Projet_besoins_actuels != None :\n",
        "            actual_similarity_score = similarity_score_texte(competence, Projet_besoins_actuels)\n",
        "            if actual_similarity_score > similarity_score :\n",
        "              similarity_score = actual_similarity_score\n",
        "          if Projet_description != None :\n",
        "            actual_similarity_score = similarity_score_texte(competence, Projet_description)\n",
        "            if actual_similarity_score > similarity_score :\n",
        "              similarity_score = actual_similarity_score\n",
        "\n",
        "      if PC_familles_competences != None :\n",
        "        for competence in PC_familles_competences :\n",
        "          # Je regarde si le nouveau similarity_score > similarity_score et je le remplace si c'est le cas.\n",
        "          if Projet_besoins_actuels != None :\n",
        "            actual_similarity_score = similarity_score_texte(competence, Projet_besoins_actuels)\n",
        "            if actual_similarity_score > similarity_score :\n",
        "              similarity_score = actual_similarity_score\n",
        "          if Projet_description != None :\n",
        "            actual_similarity_score = similarity_score_texte(competence, Projet_description)\n",
        "            if actual_similarity_score > similarity_score :\n",
        "              similarity_score = actual_similarity_score\n",
        "\n",
        "      if PC_quel_role != None :\n",
        "          if Projet_besoins_actuels != None :\n",
        "            actual_similarity_score = similarity_score_texte(PC_quel_role, Projet_besoins_actuels)\n",
        "            if actual_similarity_score > similarity_score :\n",
        "              similarity_score = actual_similarity_score\n",
        "          if Projet_description != None :\n",
        "            actual_similarity_score = similarity_score_texte(PC_quel_role, Projet_description)\n",
        "            if actual_similarity_score > similarity_score :\n",
        "              similarity_score = actual_similarity_score\n",
        "\n",
        "    elif relation == \"P\" :\n",
        "      # On compare les domaines d'activités des projets\n",
        "      Projet1_domaine_activite = data_projet[ID1]['domaine_activite'] # Char\n",
        "      Projet2_domaine_activite = data_projet[ID_Projet]['domaine_activite'] # Char\n",
        "\n",
        "      similarity_score = 0\n",
        "\n",
        "      if Projet1_domaine_activite != None and Projet2_domaine_activite != None :\n",
        "        similarity_score = similarity_score_texte(Projet1_domaine_activite, Projet2_domaine_activite)\n",
        "\n",
        "\n",
        "    return similarity_score\n",
        "  except Exception as e :\n",
        "    return f\"Une erreur s'est produite : {e}\"\n"
      ]
    },
    {
      "cell_type": "code",
      "source": [
        "# Tests PC-> Projet\n",
        "print(fc_flux_competences(39, \"Bobasq\", 'PC'))\n",
        "\n",
        "\n",
        "# Test Projet <-> Projet\n",
        "print(fc_flux_competences('ERRO ETXEA', 'Ekohameau', 'P'))\n",
        "print(fc_flux_competences('Ekohameau', 'ERRO ETXEA', 'P'))"
      ],
      "metadata": {
        "colab": {
          "base_uri": "https://localhost:8080/"
        },
        "id": "_PQ7GWVTpONy",
        "outputId": "05f697ff-4fc6-4504-cf67-f7d67163527b"
      },
      "execution_count": 103,
      "outputs": [
        {
          "output_type": "stream",
          "name": "stdout",
          "text": [
            "0.83344996\n",
            "0.80518734\n",
            "0.80518734\n"
          ]
        }
      ]
    },
    {
      "cell_type": "markdown",
      "metadata": {
        "id": "FBobUmmUUybN"
      },
      "source": [
        "### Flux de matériel mis en œuvre (NLP)"
      ]
    },
    {
      "cell_type": "code",
      "execution_count": 97,
      "metadata": {
        "id": "kl_uZqxaUybO"
      },
      "outputs": [],
      "source": [
        "\"\"\"Doc\n",
        "@param ID1 : Peut être un projet ou un PC\n",
        "@param ID_Projet : Id d'un projet\n",
        "@param relation : String \"PC\" \"P\" pour dire si ID1 est un Porteur de compétences ou un Projet.\n",
        "@return note normalisé entre 0 et 1.\n",
        "\"\"\"\n",
        "def fc_flux_materiel(ID1, ID_Projet, relation) :\n",
        "  try :\n",
        "    if relation == \"PC\" :\n",
        "      # On compare chaque materiel en circularité avec les besoins actuels du projet. On garde la meilleure relation.\n",
        "\n",
        "      PC_materiels = data_la_communaute[ID1]['materiel'] # Liste\n",
        "      Projet_besoins_actuels = data_projet[ID_Projet]['besoin_actuel'] # Char\n",
        "\n",
        "      similarity_score = 0\n",
        "\n",
        "      if PC_materiels != None :\n",
        "        for materiel in PC_materiels :\n",
        "          # Je regarde si le nouveau similarity_score > similarity_score et je le remplace si c'est le cas.\n",
        "          if Projet_besoins_actuels != None :\n",
        "            actual_similarity_score = similarity_score_texte(materiel, Projet_besoins_actuels)\n",
        "            if actual_similarity_score > similarity_score :\n",
        "              similarity_score = actual_similarity_score\n",
        "\n",
        "    elif relation == \"P\" :\n",
        "      # Un projet n'ayant pas de champs parlant de son matériel et la relation entre les descriptions\n",
        "      # de projets étant déjà utilisé pour le critère \"champ lexical\". Je ne vois pas comment attribuer un\n",
        "      # poids sans utiliser le matériel du Porteur de projet.\n",
        "      # J'ai donc pris le parti de mettre 0 ici.\n",
        "      similarity_score = 0\n",
        "\n",
        "    return similarity_score\n",
        "  except Exception as e :\n",
        "    return f\"Une erreur s'est produite : {e}\""
      ]
    },
    {
      "cell_type": "code",
      "source": [
        "# Tests PC-> Projet\n",
        "print(fc_flux_materiel(39, \"Bobasq\", 'PC'))\n",
        "\n",
        "\n",
        "# Test Projet <-> Projet\n",
        "print(fc_flux_materiel('ERRO ETXEA', 'Ekohameau', 'P'))\n",
        "print(fc_flux_materiel('Ekohameau', 'ERRO ETXEA', 'P'))"
      ],
      "metadata": {
        "colab": {
          "base_uri": "https://localhost:8080/"
        },
        "id": "omFWsLzAvZ5y",
        "outputId": "6840a194-8a97-4e91-cdbf-c5470cd882c6"
      },
      "execution_count": 95,
      "outputs": [
        {
          "output_type": "stream",
          "name": "stdout",
          "text": [
            "0.31899148\n",
            "0\n",
            "0\n"
          ]
        }
      ]
    },
    {
      "cell_type": "markdown",
      "metadata": {
        "id": "bUKMRNYbUybO"
      },
      "source": [
        "### fc_pk_rejoindre (Ajout de notre équie)"
      ]
    },
    {
      "cell_type": "code",
      "source": [
        "\"\"\"Doc\n",
        "@param ID1 : Peut être un projet ou un PC\n",
        "@param ID_Projet : Id d'un projet\n",
        "@param relation : String \"PC\" \"P\" pour dire si ID1 est un Porteur de compétences ou un Projet.\n",
        "@return note normalisé entre 0 et 1.\n",
        "\"\"\"\n",
        "def fc_pk_rejoindre(ID1, ID_Projet, relation) :\n",
        "  try :\n",
        "    if relation == \"PC\" :\n",
        "      # On compare pourquoi rejoindre avec descrition\n",
        "\n",
        "      PC_pk_rejoindre = data_la_communaute[ID1]['pk_rejoindre_HBN'] # Char\n",
        "      Projet_description = data_projet[ID_Projet]['description'] # Char\n",
        "\n",
        "      similarity_score = 0\n",
        "\n",
        "      if PC_pk_rejoindre != None :\n",
        "        if Projet_description != None :\n",
        "          actual_similarity_score = similarity_score_texte(PC_pk_rejoindre, Projet_description)\n",
        "          if actual_similarity_score > similarity_score :\n",
        "            similarity_score = actual_similarity_score\n",
        "\n",
        "    elif relation == \"P\" :\n",
        "      similarity_score = 0\n",
        "\n",
        "    return similarity_score\n",
        "  except Exception as e :\n",
        "    return f\"Une erreur s'est produite : {e}\""
      ],
      "metadata": {
        "id": "5LvyscyqBvBp"
      },
      "execution_count": 106,
      "outputs": []
    },
    {
      "cell_type": "code",
      "source": [
        "# Tests PC-> Projet\n",
        "print(fc_flux_materiel(39, \"Café Klima\", 'PC'))\n",
        "\n",
        "\n",
        "# Test Projet <-> Projet\n",
        "print(fc_flux_materiel('ERRO ETXEA', 'Ekohameau', 'P'))\n",
        "print(fc_flux_materiel('Ekohameau', 'ERRO ETXEA', 'P'))"
      ],
      "metadata": {
        "colab": {
          "base_uri": "https://localhost:8080/"
        },
        "id": "YYd6M5u0Gdr3",
        "outputId": "73d886c2-f077-4913-8e6c-f45e0a3a75be"
      },
      "execution_count": 109,
      "outputs": [
        {
          "output_type": "stream",
          "name": "stdout",
          "text": [
            "0.5386469\n",
            "0\n",
            "0\n"
          ]
        }
      ]
    }
  ],
  "metadata": {
    "kernelspec": {
      "display_name": "Deep_Learning",
      "language": "python",
      "name": "python3"
    },
    "language_info": {
      "codemirror_mode": {
        "name": "ipython",
        "version": 3
      },
      "file_extension": ".py",
      "mimetype": "text/x-python",
      "name": "python",
      "nbconvert_exporter": "python",
      "pygments_lexer": "ipython3",
      "version": "3.11.5"
    },
    "colab": {
      "provenance": [],
      "collapsed_sections": [
        "qsAl4uKNWu0v",
        "qpvDT9zDUya8"
      ]
    }
  },
  "nbformat": 4,
  "nbformat_minor": 0
}